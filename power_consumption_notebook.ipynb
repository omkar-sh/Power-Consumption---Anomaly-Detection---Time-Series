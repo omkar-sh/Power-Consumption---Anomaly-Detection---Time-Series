{
 "cells": [
  {
   "cell_type": "code",
   "execution_count": 2,
   "metadata": {},
   "outputs": [],
   "source": [
    "import nilmtk\n",
    "import matplotlib.pyplot as plt\n",
    "import pandas as pd\n",
    "plt.rcParams['figure.figsize'] = (16, 10)\n",
    "plt.style.use('ggplot')"
   ]
  },
  {
   "cell_type": "code",
   "execution_count": 3,
   "metadata": {},
   "outputs": [
    {
     "data": {
      "text/html": [
       "<ul><li><strong>description_of_subjects</strong>: 4 MSc students and 1 PhD student.</li><li><strong>meter_devices</strong>: <ul><li><strong>EcoManagerTxPlug</strong>: <ul><li><strong>max_sample_period</strong>: 120</li><li><strong>model_url</strong>: <a href=\"https://shop.edfenergy.com/Item.aspx?id=540\">https://shop.edfenergy.com/Item.aspx?id=540</a></li><li><strong>wireless_configuration</strong>: <ul><li><strong>base</strong>: creators: [Jack Kelly] model: rfm_edf_ecomanager model_url: <a href=\"https://github.com/JackKelly/rfm_edf_ecomanager/\">https://github.com/JackKelly/rfm_edf_ecomanager/</a>\n",
       "</li><li><strong>protocol</strong>: custom</li><li><strong>carrier_frequency</strong>: 434</li></ul></li><li><strong>brand</strong>: EcoManager</li><li><strong>measurements</strong>: <ul><li>{'lower_limit': 0, 'upper_limit': 3300, 'physical_quantity': 'power', 'type': 'active'}</li></ul></li><li><strong>data_logger</strong>: <ul><li><strong>model</strong>: rfm_ecomanager_logger</li><li><strong>creators</strong>: <ul><li>Jack Kelly</li></ul></li><li><strong>model_url</strong>: <a href=\"https://github.com/JackKelly/rfm_ecomanager_logger\">https://github.com/JackKelly/rfm_ecomanager_logger</a></li></ul></li><li><strong>sample_period</strong>: 6</li><li><strong>wireless</strong>: True</li><li><strong>brand_url</strong>: <a href=\"http://www.edfenergy.com/products-services/for-your-home/ecomanager\">http://www.edfenergy.com/products-services/for-your-home/ecomanager</a></li><li><strong>model</strong>: EcoManagerTxPlug</li><li><strong>seller</strong>: EDF Energy</li><li><strong>manufacturer</strong>: Current Cost / Sailwider</li></ul></li><li><strong>CurrentCostTx</strong>: <ul><li><strong>max_sample_period</strong>: 120</li><li><strong>model_url</strong>: <a href=\"http://www.currentcost.com/product-transmitter.html\">http://www.currentcost.com/product-transmitter.html</a></li><li><strong>wireless_configuration</strong>: <ul><li><strong>base</strong>: creators: [Jack Kelly] model: rfm_edf_ecomanager model_url: <a href=\"https://github.com/JackKelly/rfm_edf_ecomanager/\">https://github.com/JackKelly/rfm_edf_ecomanager/</a>\n",
       "</li><li><strong>protocol</strong>: custom</li><li><strong>carrier_frequency</strong>: 434</li></ul></li><li><strong>measurements</strong>: <ul><li>{'lower_limit': 0, 'upper_limit': 25000, 'physical_quantity': 'power', 'type': 'apparent'}</li></ul></li><li><strong>data_logger</strong>: <ul><li><strong>model</strong>: rfm_ecomanager_logger</li><li><strong>creators</strong>: <ul><li>Jack Kelly</li></ul></li><li><strong>model_url</strong>: <a href=\"https://github.com/JackKelly/rfm_ecomanager_logger\">https://github.com/JackKelly/rfm_ecomanager_logger</a></li></ul></li><li><strong>sample_period</strong>: 6</li><li><strong>wireless</strong>: True</li><li><strong>model</strong>: CurrentCost Tx</li><li><strong>manufacturer</strong>: Current Cost</li></ul></li><li><strong>SoundCardPowerMeter</strong>: <ul><li><strong>max_sample_period</strong>: 3</li><li><strong>wireless</strong>: False</li><li><strong>model_url</strong>: <a href=\"https://github.com/JackKelly/snd_card_power_meter\">https://github.com/JackKelly/snd_card_power_meter</a></li><li><strong>model</strong>: Sound Card Power Meter</li><li><strong>measurements</strong>: <ul><li>{'lower_limit': 0, 'upper_limit': 25000, 'physical_quantity': 'power', 'type': 'active'}</li><li>{'lower_limit': 0, 'upper_limit': 25000, 'physical_quantity': 'power', 'type': 'apparent'}</li><li>{'lower_limit': 180, 'upper_limit': 275, 'physical_quantity': 'voltage', 'description': 'RMS voltage'}</li></ul></li><li><strong>manufacturer</strong>: Jack Kelly / Imperial College London</li><li><strong>sample_period</strong>: 1</li></ul></li><li><strong>EcoManagerWholeHouseTx</strong>: <ul><li><strong>max_sample_period</strong>: 120</li><li><strong>model_url</strong>: <a href=\"https://shop.edfenergy.com/Item.aspx?id=547\">https://shop.edfenergy.com/Item.aspx?id=547</a></li><li><strong>wireless_configuration</strong>: <ul><li><strong>base</strong>: creators: [Jack Kelly] model: rfm_edf_ecomanager model_url: <a href=\"https://github.com/JackKelly/rfm_edf_ecomanager/\">https://github.com/JackKelly/rfm_edf_ecomanager/</a>\n",
       "</li><li><strong>protocol</strong>: custom</li><li><strong>carrier_frequency</strong>: 434</li></ul></li><li><strong>brand</strong>: EcoManager</li><li><strong>measurements</strong>: <ul><li>{'lower_limit': 0, 'upper_limit': 25000, 'physical_quantity': 'power', 'type': 'apparent'}</li></ul></li><li><strong>data_logger</strong>: <ul><li><strong>model</strong>: rfm_ecomanager_logger</li><li><strong>creators</strong>: <ul><li>Jack Kelly</li></ul></li><li><strong>model_url</strong>: <a href=\"https://github.com/JackKelly/rfm_ecomanager_logger\">https://github.com/JackKelly/rfm_ecomanager_logger</a></li></ul></li><li><strong>sample_period</strong>: 6</li><li><strong>wireless</strong>: True</li><li><strong>brand_url</strong>: <a href=\"http://www.edfenergy.com/products-services/for-your-home/ecomanager\">http://www.edfenergy.com/products-services/for-your-home/ecomanager</a></li><li><strong>model</strong>: EcoManagerWholeHouseTx</li><li><strong>seller</strong>: EDF Energy</li><li><strong>site_meter</strong>: True</li><li><strong>manufacturer</strong>: Current Cost / Sailwider</li></ul></li></ul></li><li><strong>description</strong>: Appliance-by-appliance and whole-home power demand for 5 UK homes. Appliance power demand was recorded once every 6 seconds. Whole-home power demand was recorded once every 6 seconds for all homes and additionally at 16kHz for homes 1, 2 and 5. Detailed metadata is included.</li><li><strong>rights_list</strong>: <ul><li>{'name': 'Creative Commons Attribution 4.0 International (CC BY 4.0)', 'uri': 'http://creativecommons.org/licenses/by/4.0/'}</li></ul></li><li><strong>long_name</strong>: UK Domestic Appliance-Level Electricity</li><li><strong>geo_location</strong>: <ul><li><strong>latitude</strong>: 51.464462</li><li><strong>country</strong>: GB</li><li><strong>longitude</strong>: -0.076544</li><li><strong>locality</strong>: London</li></ul></li><li><strong>date</strong>: 2015-01-05</li><li><strong>timezone</strong>: Europe/London</li><li><strong>institution</strong>: Imperial College London</li><li><strong>subject</strong>: Disaggregated domestic electricity demand</li><li><strong>publisher</strong>: UK Energy Research Centre Energy Data Centre (UKERC EDC)</li><li><strong>funding</strong>: <ul><li>Jack Kelly's PhD is funded by an EPSRC DTA</li><li>Hardware necessary for this project was funded from Jack Kelly's Intel EU PhD Fellowship</li></ul></li><li><strong>name</strong>: UK-DALE</li><li><strong>number_of_buildings</strong>: 5</li><li><strong>related_documents</strong>: <ul><li>Dataset is available for download from <a href=\"http://www.doc.ic.ac.uk/~dk3810/data/\">http://www.doc.ic.ac.uk/~dk3810/data/</a></li><li>Dataset is also available from the UK Energy Research Council's Energy Data Centre: The 1-second data is available from <a href=\"http://data.ukedc.rl.ac.uk/cgi-bin/dataset_catalogue/view.cgi.py?id=19\">http://data.ukedc.rl.ac.uk/cgi-bin/dataset_catalogue/view.cgi.py?id=19</a> and the 6-second data is available from <a href=\"http://data.ukedc.rl.ac.uk/cgi-bin/dataset_catalogue/view.cgi.py?id=18\">http://data.ukedc.rl.ac.uk/cgi-bin/dataset_catalogue/view.cgi.py?id=18</a> but please note that this archive is updated less frequently than the data on www.doc.ic.ac.uk/~dk3810/data/</li><li>This research paper describes the data collection: <a href=\"http://arxiv.org/abs/1404.0284\">http://arxiv.org/abs/1404.0284</a></li><li>The following poster describes the metering setup and provides some analyses: Jack Kelly and William Knottenbelt. Smart Meter Disaggregation: Data Collection & Analysis. UK Energy Research Council Summer School Ph.D. poster session. June 2013. PDF: <a href=\"http://www.doc.ic.ac.uk/~dk3810/writing/UKERC_poster2013_v2.pdf\">http://www.doc.ic.ac.uk/~dk3810/writing/UKERC_poster2013_v2.pdf</a></li></ul></li><li><strong>contact</strong>: jack.kelly@imperial.ac.uk</li><li><strong>timeframe</strong>: <ul><li><strong>start</strong>: 2012-11-09T22:28:15+00:00</li><li><strong>end</strong>: 2015-01-05T06:26:44+00:00</li></ul></li><li><strong>geospatial_coverage</strong>: Southern England</li><li><strong>creators</strong>: <ul><li>Kelly, Jack</li></ul></li><li><strong>schema</strong>: <a href=\"https://github.com/nilmtk/nilm_metadata/tree/v0.2\">https://github.com/nilmtk/nilm_metadata/tree/v0.2</a></li></ul>"
      ],
      "text/plain": [
       "<IPython.core.display.HTML object>"
      ]
     },
     "metadata": {},
     "output_type": "display_data"
    }
   ],
   "source": [
    "from nilmtk import DataSet\n",
    "# ds = DataSet('ukdale.h5')\n",
    "dataset = nilmtk.DataSet('C:/Users/Lenovo/Documents/data/ukdale.h5/ukdale.h5')\n",
    "nilmtk.utils.print_dict(dataset.metadata)"
   ]
  },
  {
   "cell_type": "code",
   "execution_count": 4,
   "metadata": {},
   "outputs": [
    {
     "data": {
      "text/html": [
       "<ul><li><strong>1</strong>: Building(instance=1, dataset='UK-DALE')</li><li><strong>2</strong>: Building(instance=2, dataset='UK-DALE')</li><li><strong>3</strong>: Building(instance=3, dataset='UK-DALE')</li><li><strong>4</strong>: Building(instance=4, dataset='UK-DALE')</li><li><strong>5</strong>: Building(instance=5, dataset='UK-DALE')</li></ul>"
      ],
      "text/plain": [
       "<IPython.core.display.HTML object>"
      ]
     },
     "metadata": {},
     "output_type": "display_data"
    }
   ],
   "source": [
    "nilmtk.utils.print_dict(dataset.buildings)\n",
    "elec = dataset.buildings[2].elec"
   ]
  },
  {
   "cell_type": "code",
   "execution_count": 5,
   "metadata": {},
   "outputs": [
    {
     "data": {
      "text/plain": [
       "2013-04-16 21:45:16.300000+01:00    0.0\n",
       "2013-04-16 21:45:17.300000+01:00    0.0\n",
       "2013-04-16 21:45:18.300000+01:00    0.0\n",
       "2013-04-16 21:45:19.300000+01:00    0.0\n",
       "2013-04-16 21:45:20.300000+01:00    0.0\n",
       "2013-04-16 21:45:21.300000+01:00    0.0\n",
       "2013-04-16 21:45:22.300000+01:00    0.0\n",
       "2013-04-16 21:45:23.300000+01:00    0.0\n",
       "2013-04-16 21:45:24.400000+01:00    0.0\n",
       "2013-04-16 21:45:25.300000+01:00    0.0\n",
       "Name: (power, active), dtype: float32"
      ]
     },
     "execution_count": 5,
     "metadata": {},
     "output_type": "execute_result"
    }
   ],
   "source": [
    "elec_mains = elec.mains()\n",
    "elec_mains.power_series_all_data().head(10)"
   ]
  },
  {
   "cell_type": "code",
   "execution_count": 6,
   "metadata": {},
   "outputs": [
    {
     "data": {
      "text/plain": [
       "active      1008.974375\n",
       "apparent    1125.512251\n",
       "dtype: float64"
      ]
     },
     "execution_count": 6,
     "metadata": {},
     "output_type": "execute_result"
    }
   ],
   "source": [
    "elec.mains().total_energy()"
   ]
  },
  {
   "cell_type": "code",
   "execution_count": 7,
   "metadata": {},
   "outputs": [
    {
     "name": "stdout",
     "output_type": "stream",
     "text": [
      "18/18 ElecMeter(instance=19, building=2, dataset='UK-DALE', appliances=[Appliance(type='cooker', instance=1)])ce=1)])]))"
     ]
    },
    {
     "data": {
      "text/html": [
       "<div>\n",
       "<style scoped>\n",
       "    .dataframe tbody tr th:only-of-type {\n",
       "        vertical-align: middle;\n",
       "    }\n",
       "\n",
       "    .dataframe tbody tr th {\n",
       "        vertical-align: top;\n",
       "    }\n",
       "\n",
       "    .dataframe thead th {\n",
       "        text-align: right;\n",
       "    }\n",
       "</style>\n",
       "<table border=\"1\" class=\"dataframe\">\n",
       "  <thead>\n",
       "    <tr style=\"text-align: right;\">\n",
       "      <th></th>\n",
       "      <th>active</th>\n",
       "      <th>apparent</th>\n",
       "      <th>reactive</th>\n",
       "    </tr>\n",
       "  </thead>\n",
       "  <tbody>\n",
       "    <tr>\n",
       "      <th>(2, 2, UK-DALE)</th>\n",
       "      <td>45.915003</td>\n",
       "      <td>NaN</td>\n",
       "      <td>NaN</td>\n",
       "    </tr>\n",
       "    <tr>\n",
       "      <th>(3, 2, UK-DALE)</th>\n",
       "      <td>109.253930</td>\n",
       "      <td>NaN</td>\n",
       "      <td>NaN</td>\n",
       "    </tr>\n",
       "    <tr>\n",
       "      <th>(4, 2, UK-DALE)</th>\n",
       "      <td>28.383643</td>\n",
       "      <td>NaN</td>\n",
       "      <td>NaN</td>\n",
       "    </tr>\n",
       "    <tr>\n",
       "      <th>(5, 2, UK-DALE)</th>\n",
       "      <td>84.936261</td>\n",
       "      <td>NaN</td>\n",
       "      <td>NaN</td>\n",
       "    </tr>\n",
       "    <tr>\n",
       "      <th>(6, 2, UK-DALE)</th>\n",
       "      <td>47.749266</td>\n",
       "      <td>NaN</td>\n",
       "      <td>NaN</td>\n",
       "    </tr>\n",
       "  </tbody>\n",
       "</table>\n",
       "</div>"
      ],
      "text/plain": [
       "                     active  apparent  reactive\n",
       "(2, 2, UK-DALE)   45.915003       NaN       NaN\n",
       "(3, 2, UK-DALE)  109.253930       NaN       NaN\n",
       "(4, 2, UK-DALE)   28.383643       NaN       NaN\n",
       "(5, 2, UK-DALE)   84.936261       NaN       NaN\n",
       "(6, 2, UK-DALE)   47.749266       NaN       NaN"
      ]
     },
     "execution_count": 7,
     "metadata": {},
     "output_type": "execute_result"
    }
   ],
   "source": [
    "energy_per_meter = elec.submeters().energy_per_meter()\n",
    "from pandas import DataFrame\n",
    "energy_per_meter=energy_per_meter.T\n",
    "energy_per_meter.head()"
   ]
  },
  {
   "cell_type": "code",
   "execution_count": 8,
   "metadata": {},
   "outputs": [],
   "source": [
    "# kettle = dataset.buildings[2].elec['kettle']\n",
    "# dishwasher = dataset.buildings[2].elec['dish washer']\n",
    "# fridge = dataset.buildings[2].elec['fridge']\n",
    "# microwave = dataset.buildings[2].elec['microwave']\n",
    "# washing_machine = dataset.buildings[2].elec['washing machine']\n",
    "# df1 = next(kettle.load()).dropna()\n",
    "\n",
    "# df2 = next(dishwasher.load()).dropna()\n",
    "# df3 = next(fridge.load()).dropna()\n",
    "# df4 = next(microwave.load()).dropna()\n",
    "# df5 = next(washing_machine.load()).dropna()"
   ]
  },
  {
   "cell_type": "code",
   "execution_count": 9,
   "metadata": {},
   "outputs": [],
   "source": [
    "# print(df3.index.min(),df3.index.max())"
   ]
  },
  {
   "cell_type": "code",
   "execution_count": 10,
   "metadata": {},
   "outputs": [],
   "source": [
    "# start='2013-06-17 16:00:22+00:00'\n",
    "# end  ='2013-06-17 17:00:22+00:00'\n",
    "# df3.loc[start:end].plot()"
   ]
  },
  {
   "cell_type": "code",
   "execution_count": 11,
   "metadata": {},
   "outputs": [
    {
     "name": "stdout",
     "output_type": "stream",
     "text": [
      "18/18 ElecMeter(instance=19, building=2, dataset='UK-DALE', appliances=[Appliance(type='cooker', instance=1)])ce=1)])]))"
     ]
    },
    {
     "data": {
      "text/plain": [
       "[Appliance(type='computer monitor', instance=1),\n",
       " Appliance(type='modem', instance=1),\n",
       " Appliance(type='kettle', instance=1),\n",
       " Appliance(type='dish washer', instance=1),\n",
       " Appliance(type='broadband router', instance=1),\n",
       " Appliance(type='computer', instance=1),\n",
       " Appliance(type='laptop computer', instance=1),\n",
       " Appliance(type='washing machine', instance=1),\n",
       " Appliance(type='active speaker', instance=1),\n",
       " Appliance(type='fridge', instance=1)]"
      ]
     },
     "execution_count": 11,
     "metadata": {},
     "output_type": "execute_result"
    }
   ],
   "source": [
    "top_7 = elec.submeters().select_top_k(10)\n",
    "top_7.appliances"
   ]
  },
  {
   "cell_type": "code",
   "execution_count": 12,
   "metadata": {},
   "outputs": [
    {
     "data": {
      "text/html": [
       "<div>\n",
       "<style scoped>\n",
       "    .dataframe tbody tr th:only-of-type {\n",
       "        vertical-align: middle;\n",
       "    }\n",
       "\n",
       "    .dataframe tbody tr th {\n",
       "        vertical-align: top;\n",
       "    }\n",
       "\n",
       "    .dataframe thead th {\n",
       "        text-align: right;\n",
       "    }\n",
       "</style>\n",
       "<table border=\"1\" class=\"dataframe\">\n",
       "  <thead>\n",
       "    <tr style=\"text-align: right;\">\n",
       "      <th></th>\n",
       "      <th>appliance</th>\n",
       "    </tr>\n",
       "  </thead>\n",
       "  <tbody>\n",
       "    <tr>\n",
       "      <th>0</th>\n",
       "      <td>Appliance(type='toaster', instance=1)</td>\n",
       "    </tr>\n",
       "    <tr>\n",
       "      <th>1</th>\n",
       "      <td>Appliance(type='computer monitor', instance=1)</td>\n",
       "    </tr>\n",
       "    <tr>\n",
       "      <th>2</th>\n",
       "      <td>Appliance(type='external hard disk', instance=1)</td>\n",
       "    </tr>\n",
       "    <tr>\n",
       "      <th>3</th>\n",
       "      <td>Appliance(type='rice cooker', instance=1)</td>\n",
       "    </tr>\n",
       "    <tr>\n",
       "      <th>4</th>\n",
       "      <td>Appliance(type='games console', instance=1)</td>\n",
       "    </tr>\n",
       "    <tr>\n",
       "      <th>5</th>\n",
       "      <td>Appliance(type='modem', instance=1)</td>\n",
       "    </tr>\n",
       "    <tr>\n",
       "      <th>6</th>\n",
       "      <td>Appliance(type='laptop computer', instance=2)</td>\n",
       "    </tr>\n",
       "    <tr>\n",
       "      <th>7</th>\n",
       "      <td>Appliance(type='kettle', instance=1)</td>\n",
       "    </tr>\n",
       "    <tr>\n",
       "      <th>8</th>\n",
       "      <td>Appliance(type='cooker', instance=1)</td>\n",
       "    </tr>\n",
       "    <tr>\n",
       "      <th>9</th>\n",
       "      <td>Appliance(type='broadband router', instance=1)</td>\n",
       "    </tr>\n",
       "    <tr>\n",
       "      <th>10</th>\n",
       "      <td>Appliance(type='laptop computer', instance=1)</td>\n",
       "    </tr>\n",
       "    <tr>\n",
       "      <th>11</th>\n",
       "      <td>Appliance(type='computer', instance=1)</td>\n",
       "    </tr>\n",
       "    <tr>\n",
       "      <th>12</th>\n",
       "      <td>Appliance(type='active speaker', instance=1)</td>\n",
       "    </tr>\n",
       "    <tr>\n",
       "      <th>13</th>\n",
       "      <td>Appliance(type='washing machine', instance=1)</td>\n",
       "    </tr>\n",
       "    <tr>\n",
       "      <th>14</th>\n",
       "      <td>Appliance(type='dish washer', instance=1)</td>\n",
       "    </tr>\n",
       "    <tr>\n",
       "      <th>15</th>\n",
       "      <td>Appliance(type='microwave', instance=1)</td>\n",
       "    </tr>\n",
       "    <tr>\n",
       "      <th>16</th>\n",
       "      <td>Appliance(type='fridge', instance=1)</td>\n",
       "    </tr>\n",
       "    <tr>\n",
       "      <th>17</th>\n",
       "      <td>Appliance(type='running machine', instance=1)</td>\n",
       "    </tr>\n",
       "  </tbody>\n",
       "</table>\n",
       "</div>"
      ],
      "text/plain": [
       "                                           appliance\n",
       "0              Appliance(type='toaster', instance=1)\n",
       "1     Appliance(type='computer monitor', instance=1)\n",
       "2   Appliance(type='external hard disk', instance=1)\n",
       "3          Appliance(type='rice cooker', instance=1)\n",
       "4        Appliance(type='games console', instance=1)\n",
       "5                Appliance(type='modem', instance=1)\n",
       "6      Appliance(type='laptop computer', instance=2)\n",
       "7               Appliance(type='kettle', instance=1)\n",
       "8               Appliance(type='cooker', instance=1)\n",
       "9     Appliance(type='broadband router', instance=1)\n",
       "10     Appliance(type='laptop computer', instance=1)\n",
       "11            Appliance(type='computer', instance=1)\n",
       "12      Appliance(type='active speaker', instance=1)\n",
       "13     Appliance(type='washing machine', instance=1)\n",
       "14         Appliance(type='dish washer', instance=1)\n",
       "15           Appliance(type='microwave', instance=1)\n",
       "16              Appliance(type='fridge', instance=1)\n",
       "17     Appliance(type='running machine', instance=1)"
      ]
     },
     "execution_count": 12,
     "metadata": {},
     "output_type": "execute_result"
    }
   ],
   "source": [
    "from pandas import DataFrame\n",
    "app=dataset.buildings[2].elec.appliances\n",
    "app=DataFrame(app,columns=['appliance'])\n",
    "app"
   ]
  },
  {
   "cell_type": "code",
   "execution_count": 13,
   "metadata": {},
   "outputs": [],
   "source": [
    "def rename(col):\n",
    "    if isinstance(col, tuple):\n",
    "        col = '_'.join(str(c) for c in col)\n",
    "             \n",
    "        \n",
    "            \n",
    "    return col\n"
   ]
  },
  {
   "cell_type": "code",
   "execution_count": 14,
   "metadata": {},
   "outputs": [],
   "source": [
    "# !pip install --upgrade pandas"
   ]
  },
  {
   "cell_type": "code",
   "execution_count": 15,
   "metadata": {},
   "outputs": [
    {
     "data": {
      "text/plain": [
       "<matplotlib.axes._subplots.AxesSubplot at 0x223ccf13f70>"
      ]
     },
     "execution_count": 15,
     "metadata": {},
     "output_type": "execute_result"
    },
    {
     "data": {
      "image/png": "[encoded data removed]",
      "text/plain": [
       "<Figure size 1152x720 with 1 Axes>"
      ]
     },
     "metadata": {},
     "output_type": "display_data"
    }
   ],
   "source": [
    "elec.plot_when_on(on_power_threshold = 10)"
   ]
  },
  {
   "cell_type": "code",
   "execution_count": 16,
   "metadata": {},
   "outputs": [
    {
     "name": "stdout",
     "output_type": "stream",
     "text": [
      "Loading data for meter ElecMeterID(instance=20, building=2, dataset='UK-DALE')     \n",
      "Done loading data all meters for this chunk.\n"
     ]
    },
    {
     "data": {
      "text/html": [
       "<div>\n",
       "<style scoped>\n",
       "    .dataframe tbody tr th:only-of-type {\n",
       "        vertical-align: middle;\n",
       "    }\n",
       "\n",
       "    .dataframe tbody tr th {\n",
       "        vertical-align: top;\n",
       "    }\n",
       "\n",
       "    .dataframe thead th {\n",
       "        text-align: right;\n",
       "    }\n",
       "</style>\n",
       "<table border=\"1\" class=\"dataframe\">\n",
       "  <thead>\n",
       "    <tr style=\"text-align: right;\">\n",
       "      <th></th>\n",
       "      <th>power_apparent</th>\n",
       "      <th>voltage_</th>\n",
       "      <th>power_active</th>\n",
       "    </tr>\n",
       "  </thead>\n",
       "  <tbody>\n",
       "    <tr>\n",
       "      <th>2013-02-17 15:38:00+00:00</th>\n",
       "      <td>NaN</td>\n",
       "      <td>NaN</td>\n",
       "      <td>100.285721</td>\n",
       "    </tr>\n",
       "    <tr>\n",
       "      <th>2013-02-17 15:40:00+00:00</th>\n",
       "      <td>NaN</td>\n",
       "      <td>NaN</td>\n",
       "      <td>101.500000</td>\n",
       "    </tr>\n",
       "    <tr>\n",
       "      <th>2013-02-17 15:42:00+00:00</th>\n",
       "      <td>NaN</td>\n",
       "      <td>NaN</td>\n",
       "      <td>106.449997</td>\n",
       "    </tr>\n",
       "    <tr>\n",
       "      <th>2013-02-17 15:44:00+00:00</th>\n",
       "      <td>NaN</td>\n",
       "      <td>NaN</td>\n",
       "      <td>110.850006</td>\n",
       "    </tr>\n",
       "    <tr>\n",
       "      <th>2013-02-17 15:46:00+00:00</th>\n",
       "      <td>NaN</td>\n",
       "      <td>NaN</td>\n",
       "      <td>107.250000</td>\n",
       "    </tr>\n",
       "  </tbody>\n",
       "</table>\n",
       "</div>"
      ],
      "text/plain": [
       "                           power_apparent  voltage_  power_active\n",
       "2013-02-17 15:38:00+00:00             NaN       NaN    100.285721\n",
       "2013-02-17 15:40:00+00:00             NaN       NaN    101.500000\n",
       "2013-02-17 15:42:00+00:00             NaN       NaN    106.449997\n",
       "2013-02-17 15:44:00+00:00             NaN       NaN    110.850006\n",
       "2013-02-17 15:46:00+00:00             NaN       NaN    107.250000"
      ]
     },
     "execution_count": 16,
     "metadata": {},
     "output_type": "execute_result"
    }
   ],
   "source": [
    "df = next(dataset.buildings[2].elec.load(physical_quantity=['power','voltage'],sample_period=120)) \n",
    "\n",
    "df.columns = map(rename, df.columns)\n",
    "df.head()\n"
   ]
  },
  {
   "cell_type": "code",
   "execution_count": 17,
   "metadata": {},
   "outputs": [],
   "source": [
    "# %history -g "
   ]
  },
  {
   "cell_type": "code",
   "execution_count": 18,
   "metadata": {},
   "outputs": [
    {
     "data": {
      "text/html": [
       "<div>\n",
       "<style scoped>\n",
       "    .dataframe tbody tr th:only-of-type {\n",
       "        vertical-align: middle;\n",
       "    }\n",
       "\n",
       "    .dataframe tbody tr th {\n",
       "        vertical-align: top;\n",
       "    }\n",
       "\n",
       "    .dataframe thead th {\n",
       "        text-align: right;\n",
       "    }\n",
       "</style>\n",
       "<table border=\"1\" class=\"dataframe\">\n",
       "  <thead>\n",
       "    <tr style=\"text-align: right;\">\n",
       "      <th></th>\n",
       "      <th>power_apparent</th>\n",
       "      <th>voltage</th>\n",
       "      <th>power_active</th>\n",
       "    </tr>\n",
       "  </thead>\n",
       "  <tbody>\n",
       "    <tr>\n",
       "      <th>2013-10-10 06:08:00+01:00</th>\n",
       "      <td>145.866837</td>\n",
       "      <td>244.062256</td>\n",
       "      <td>157.842667</td>\n",
       "    </tr>\n",
       "    <tr>\n",
       "      <th>2013-10-10 06:10:00+01:00</th>\n",
       "      <td>144.775253</td>\n",
       "      <td>243.298248</td>\n",
       "      <td>157.129364</td>\n",
       "    </tr>\n",
       "    <tr>\n",
       "      <th>2013-10-10 06:12:00+01:00</th>\n",
       "      <td>145.122086</td>\n",
       "      <td>243.362503</td>\n",
       "      <td>157.281097</td>\n",
       "    </tr>\n",
       "    <tr>\n",
       "      <th>2013-10-10 06:14:00+01:00</th>\n",
       "      <td>146.259506</td>\n",
       "      <td>243.301834</td>\n",
       "      <td>157.743683</td>\n",
       "    </tr>\n",
       "    <tr>\n",
       "      <th>2013-10-10 06:16:00+01:00</th>\n",
       "      <td>NaN</td>\n",
       "      <td>NaN</td>\n",
       "      <td>NaN</td>\n",
       "    </tr>\n",
       "  </tbody>\n",
       "</table>\n",
       "</div>"
      ],
      "text/plain": [
       "                           power_apparent     voltage  power_active\n",
       "2013-10-10 06:08:00+01:00      145.866837  244.062256    157.842667\n",
       "2013-10-10 06:10:00+01:00      144.775253  243.298248    157.129364\n",
       "2013-10-10 06:12:00+01:00      145.122086  243.362503    157.281097\n",
       "2013-10-10 06:14:00+01:00      146.259506  243.301834    157.743683\n",
       "2013-10-10 06:16:00+01:00             NaN         NaN           NaN"
      ]
     },
     "execution_count": 18,
     "metadata": {},
     "output_type": "execute_result"
    }
   ],
   "source": [
    "df=df.rename(columns={\"voltage_\": \"voltage\"}, errors=\"raise\")\n",
    "df.tail()"
   ]
  },
  {
   "cell_type": "code",
   "execution_count": 19,
   "metadata": {},
   "outputs": [
    {
     "data": {
      "text/html": [
       "<div>\n",
       "<style scoped>\n",
       "    .dataframe tbody tr th:only-of-type {\n",
       "        vertical-align: middle;\n",
       "    }\n",
       "\n",
       "    .dataframe tbody tr th {\n",
       "        vertical-align: top;\n",
       "    }\n",
       "\n",
       "    .dataframe thead th {\n",
       "        text-align: right;\n",
       "    }\n",
       "</style>\n",
       "<table border=\"1\" class=\"dataframe\">\n",
       "  <thead>\n",
       "    <tr style=\"text-align: right;\">\n",
       "      <th></th>\n",
       "      <th>power_apparent</th>\n",
       "      <th>voltage</th>\n",
       "      <th>power_active</th>\n",
       "    </tr>\n",
       "  </thead>\n",
       "  <tbody>\n",
       "    <tr>\n",
       "      <th>2013-06-17 00:54:00+01:00</th>\n",
       "      <td>165.105911</td>\n",
       "      <td>242.083832</td>\n",
       "      <td>211.452332</td>\n",
       "    </tr>\n",
       "  </tbody>\n",
       "</table>\n",
       "</div>"
      ],
      "text/plain": [
       "                           power_apparent     voltage  power_active\n",
       "2013-06-17 00:54:00+01:00      165.105911  242.083832    211.452332"
      ]
     },
     "execution_count": 19,
     "metadata": {},
     "output_type": "execute_result"
    }
   ],
   "source": [
    "cutoff_st = '2013-06-16 23:54:00+00:00'\n",
    "cutoff_et = '2013-09-30 23:59:59+00:00'\n",
    "df = df.loc[cutoff_st:cutoff_et]\n",
    "df.head(1)\n"
   ]
  },
  {
   "cell_type": "code",
   "execution_count": 20,
   "metadata": {},
   "outputs": [
    {
     "data": {
      "text/html": [
       "<div>\n",
       "<style scoped>\n",
       "    .dataframe tbody tr th:only-of-type {\n",
       "        vertical-align: middle;\n",
       "    }\n",
       "\n",
       "    .dataframe tbody tr th {\n",
       "        vertical-align: top;\n",
       "    }\n",
       "\n",
       "    .dataframe thead th {\n",
       "        text-align: right;\n",
       "    }\n",
       "</style>\n",
       "<table border=\"1\" class=\"dataframe\">\n",
       "  <thead>\n",
       "    <tr style=\"text-align: right;\">\n",
       "      <th></th>\n",
       "      <th>power_apparent</th>\n",
       "      <th>voltage</th>\n",
       "      <th>power_active</th>\n",
       "    </tr>\n",
       "  </thead>\n",
       "  <tbody>\n",
       "    <tr>\n",
       "      <th>2013-06-17 00:54:00</th>\n",
       "      <td>165.105911</td>\n",
       "      <td>242.083832</td>\n",
       "      <td>211.452332</td>\n",
       "    </tr>\n",
       "  </tbody>\n",
       "</table>\n",
       "</div>"
      ],
      "text/plain": [
       "                     power_apparent     voltage  power_active\n",
       "2013-06-17 00:54:00      165.105911  242.083832    211.452332"
      ]
     },
     "execution_count": 20,
     "metadata": {},
     "output_type": "execute_result"
    }
   ],
   "source": [
    "import datetime\n",
    "df.index= df.index.tz_localize(None)\n",
    "df.head(1)"
   ]
  },
  {
   "cell_type": "code",
   "execution_count": 21,
   "metadata": {},
   "outputs": [],
   "source": [
    "# !pip install gcsfs"
   ]
  },
  {
   "cell_type": "code",
   "execution_count": 22,
   "metadata": {},
   "outputs": [],
   "source": [
    "from datetime import datetime\n",
    "import matplotlib.pyplot as plt\n",
    "import numpy as np\n",
    "import os\n",
    "import pandas as pd\n",
    "import re\n",
    "import gcsfs\n",
    "import sklearn.metrics\n",
    "\n",
    "%matplotlib inline"
   ]
  },
  {
   "cell_type": "code",
   "execution_count": 23,
   "metadata": {},
   "outputs": [],
   "source": [
    "def load_main_energy_data(path):\n",
    "  \"\"\"Load main energy data from the specified file.\n",
    "  \n",
    "  Load main energy data from the specified file.\n",
    "  \n",
    "  Args:\n",
    "    path - string. Path to the data file.\n",
    "  Returns:\n",
    "    pd.DataFrame - Main energy data in the household.\n",
    "  Raises:\n",
    "    ValueError. Raised when the specified file does not exist.\n",
    "  \"\"\"\n",
    "  \n",
    "  if not os.path.exists(path):\n",
    "    raise ValueError('File {} does not exist.'.format(path))\n",
    "  \n",
    "  with open(path, 'r') as f:\n",
    "    data = pd.read_csv(f,\n",
    "                       delimiter=' ',\n",
    "                       header=None,\n",
    "                       names=['time',\n",
    "                              'main_watts',\n",
    "                              'main_va',\n",
    "                              'main_RMS'])\n",
    "  \n",
    "  data.time = data.time.apply(lambda x: datetime.fromtimestamp(x))\n",
    "  data.set_index('time', drop=True, inplace=True)\n",
    "  data.index = data.index.floor('S')\n",
    "  return data"
   ]
  },
  {
   "cell_type": "code",
   "execution_count": 24,
   "metadata": {},
   "outputs": [],
   "source": [
    "def load_appliance_energy_data(path, appliance_name):\n",
    "  \"\"\"Load appliance energy data from file.\n",
    "  \n",
    "  Load energy data from the specified file.\n",
    "  \n",
    "  Args:\n",
    "    path - string. Path to the data file.\n",
    "    appliance_name - string. Name of the appliance.\n",
    "  Returns:\n",
    "    pd.DataFrame. A 2-column dataframe.\n",
    "    The 1st column is timestamp in UTC, and the 2nd is energy in \n",
    "  Raises:\n",
    "    ValueError. Raised when the specified file does not exist.\n",
    "  \"\"\"\n",
    "  \n",
    "  if not os.path.exists(path):\n",
    "    raise ValueError('File {} does not exist.'.format(path))\n",
    "  \n",
    "  with open(path, 'r') as f:\n",
    "    df = pd.read_csv(f,\n",
    "                     delimiter=' ',\n",
    "                     header=None,\n",
    "                     names=['time', appliance_name])\n",
    "  \n",
    "  df.time = df.time.apply(lambda x: datetime.fromtimestamp(x))\n",
    "  df.set_index('time', drop=True, inplace=True)\n",
    "  df.index = df.index.floor('S')\n",
    "  return df"
   ]
  },
  {
   "cell_type": "code",
   "execution_count": 25,
   "metadata": {},
   "outputs": [],
   "source": [
    "def load_energy_data(data_dir, house_id, load_main=False):\n",
    "  \"\"\"Load all appliances energy data.\n",
    "  \n",
    "  Load all appliances energy data collected in a specified household.\n",
    "  \n",
    "  Args:\n",
    "    data_dir - string. Path to the directory of data.\n",
    "    house_id - int. Household id.\n",
    "    load_main - bool. Whether to load mains.dat.\n",
    "  Returns:\n",
    "    pd.DataFrame - Energy data in the household.\n",
    "  Raises:\n",
    "    ValueError. Raised when the specified directory or household does not exist.\n",
    "  \"\"\"\n",
    "  \n",
    "  house_data_dir = os.path.join(data_dir, 'house_{}'.format(house_id))\n",
    "  if not os.path.exists(house_data_dir):\n",
    "    raise ValueError('{} does not exist.'.format(house_data_dir))\n",
    "  \n",
    "  if load_main:\n",
    "    main_file = os.path.join(house_data_dir, 'mains.dat')\n",
    "    data = load_main_energy_data(main_file)\n",
    "  \n",
    "  label_file = os.path.join(house_data_dir, 'labels.dat')\n",
    "  with open(label_file, 'r') as f:\n",
    "    labels = pd.read_csv(f,\n",
    "                         delimiter=' ',\n",
    "                         header=None,\n",
    "                         index_col=0,\n",
    "                         names=['appliance'])\n",
    "  \n",
    "  appliance_files = filter(lambda x: re.match(r'channel_\\d+\\.dat', x),\n",
    "                           os.listdir(house_data_dir))\n",
    "\n",
    "  ll = [data,] if load_main else []\n",
    "  for f in appliance_files:\n",
    "    appliance_id = int(f.split('.')[0].split('_')[1])\n",
    "    appliance_name = labels.loc[appliance_id, 'appliance']\n",
    "    ll.append(load_appliance_energy_data(os.path.join(house_data_dir, f),\n",
    "                                         appliance_name))\n",
    "  if load_main:  \n",
    "    data = pd.concat(ll, axis=1, join_axes=[data.index])\n",
    "  else:\n",
    "    data = pd.concat(ll, axis=1)\n",
    "  return data"
   ]
  },
  {
   "cell_type": "code",
   "execution_count": 26,
   "metadata": {},
   "outputs": [],
   "source": [
    "use_raw = False #@param\n",
    "\n",
    "selected_hid = 2 #@param\n",
    "raw_data_dir = 'C:/Users/Lenovo/Documents/ukdale' #@param\n",
    "selected_house_dir = os.path.join(raw_data_dir, 'house_{}'.format(selected_hid))"
   ]
  },
  {
   "cell_type": "code",
   "execution_count": 27,
   "metadata": {},
   "outputs": [
    {
     "name": "stdout",
     "output_type": "stream",
     "text": [
      "Wall time: 1min 43s\n"
     ]
    }
   ],
   "source": [
    "%%time\n",
    "energy_data = load_energy_data(raw_data_dir, selected_hid)"
   ]
  },
  {
   "cell_type": "code",
   "execution_count": 28,
   "metadata": {},
   "outputs": [
    {
     "data": {
      "text/html": [
       "<div>\n",
       "<style scoped>\n",
       "    .dataframe tbody tr th:only-of-type {\n",
       "        vertical-align: middle;\n",
       "    }\n",
       "\n",
       "    .dataframe tbody tr th {\n",
       "        vertical-align: top;\n",
       "    }\n",
       "\n",
       "    .dataframe thead th {\n",
       "        text-align: right;\n",
       "    }\n",
       "</style>\n",
       "<table border=\"1\" class=\"dataframe\">\n",
       "  <thead>\n",
       "    <tr style=\"text-align: right;\">\n",
       "      <th></th>\n",
       "      <th>aggregate</th>\n",
       "      <th>running_machine</th>\n",
       "      <th>laptop2</th>\n",
       "      <th>washing_machine</th>\n",
       "      <th>dish_washer</th>\n",
       "      <th>fridge</th>\n",
       "      <th>microwave</th>\n",
       "      <th>toaster</th>\n",
       "      <th>playstation</th>\n",
       "      <th>modem</th>\n",
       "      <th>cooker</th>\n",
       "      <th>laptop</th>\n",
       "      <th>monitor</th>\n",
       "      <th>speakers</th>\n",
       "      <th>server</th>\n",
       "      <th>router</th>\n",
       "      <th>server_hdd</th>\n",
       "      <th>kettle</th>\n",
       "      <th>rice_cooker</th>\n",
       "    </tr>\n",
       "    <tr>\n",
       "      <th>time</th>\n",
       "      <th></th>\n",
       "      <th></th>\n",
       "      <th></th>\n",
       "      <th></th>\n",
       "      <th></th>\n",
       "      <th></th>\n",
       "      <th></th>\n",
       "      <th></th>\n",
       "      <th></th>\n",
       "      <th></th>\n",
       "      <th></th>\n",
       "      <th></th>\n",
       "      <th></th>\n",
       "      <th></th>\n",
       "      <th></th>\n",
       "      <th></th>\n",
       "      <th></th>\n",
       "      <th></th>\n",
       "      <th></th>\n",
       "    </tr>\n",
       "  </thead>\n",
       "  <tbody>\n",
       "    <tr>\n",
       "      <th>2013-02-17 21:09:19</th>\n",
       "      <td>NaN</td>\n",
       "      <td>NaN</td>\n",
       "      <td>NaN</td>\n",
       "      <td>NaN</td>\n",
       "      <td>NaN</td>\n",
       "      <td>NaN</td>\n",
       "      <td>NaN</td>\n",
       "      <td>NaN</td>\n",
       "      <td>NaN</td>\n",
       "      <td>NaN</td>\n",
       "      <td>NaN</td>\n",
       "      <td>14.0</td>\n",
       "      <td>62.0</td>\n",
       "      <td>3.0</td>\n",
       "      <td>21.0</td>\n",
       "      <td>NaN</td>\n",
       "      <td>NaN</td>\n",
       "      <td>NaN</td>\n",
       "      <td>NaN</td>\n",
       "    </tr>\n",
       "    <tr>\n",
       "      <th>2013-02-17 21:09:25</th>\n",
       "      <td>NaN</td>\n",
       "      <td>NaN</td>\n",
       "      <td>NaN</td>\n",
       "      <td>NaN</td>\n",
       "      <td>NaN</td>\n",
       "      <td>NaN</td>\n",
       "      <td>NaN</td>\n",
       "      <td>NaN</td>\n",
       "      <td>NaN</td>\n",
       "      <td>NaN</td>\n",
       "      <td>NaN</td>\n",
       "      <td>14.0</td>\n",
       "      <td>61.0</td>\n",
       "      <td>3.0</td>\n",
       "      <td>21.0</td>\n",
       "      <td>NaN</td>\n",
       "      <td>NaN</td>\n",
       "      <td>NaN</td>\n",
       "      <td>NaN</td>\n",
       "    </tr>\n",
       "    <tr>\n",
       "      <th>2013-02-17 21:09:31</th>\n",
       "      <td>NaN</td>\n",
       "      <td>NaN</td>\n",
       "      <td>NaN</td>\n",
       "      <td>NaN</td>\n",
       "      <td>NaN</td>\n",
       "      <td>NaN</td>\n",
       "      <td>NaN</td>\n",
       "      <td>NaN</td>\n",
       "      <td>NaN</td>\n",
       "      <td>NaN</td>\n",
       "      <td>NaN</td>\n",
       "      <td>14.0</td>\n",
       "      <td>62.0</td>\n",
       "      <td>3.0</td>\n",
       "      <td>21.0</td>\n",
       "      <td>NaN</td>\n",
       "      <td>NaN</td>\n",
       "      <td>NaN</td>\n",
       "      <td>NaN</td>\n",
       "    </tr>\n",
       "  </tbody>\n",
       "</table>\n",
       "</div>"
      ],
      "text/plain": [
       "                     aggregate  running_machine  laptop2  washing_machine  \\\n",
       "time                                                                        \n",
       "2013-02-17 21:09:19        NaN              NaN      NaN              NaN   \n",
       "2013-02-17 21:09:25        NaN              NaN      NaN              NaN   \n",
       "2013-02-17 21:09:31        NaN              NaN      NaN              NaN   \n",
       "\n",
       "                     dish_washer  fridge  microwave  toaster  playstation  \\\n",
       "time                                                                        \n",
       "2013-02-17 21:09:19          NaN     NaN        NaN      NaN          NaN   \n",
       "2013-02-17 21:09:25          NaN     NaN        NaN      NaN          NaN   \n",
       "2013-02-17 21:09:31          NaN     NaN        NaN      NaN          NaN   \n",
       "\n",
       "                     modem  cooker  laptop  monitor  speakers  server  router  \\\n",
       "time                                                                            \n",
       "2013-02-17 21:09:19    NaN     NaN    14.0     62.0       3.0    21.0     NaN   \n",
       "2013-02-17 21:09:25    NaN     NaN    14.0     61.0       3.0    21.0     NaN   \n",
       "2013-02-17 21:09:31    NaN     NaN    14.0     62.0       3.0    21.0     NaN   \n",
       "\n",
       "                     server_hdd  kettle  rice_cooker  \n",
       "time                                                  \n",
       "2013-02-17 21:09:19         NaN     NaN          NaN  \n",
       "2013-02-17 21:09:25         NaN     NaN          NaN  \n",
       "2013-02-17 21:09:31         NaN     NaN          NaN  "
      ]
     },
     "execution_count": 28,
     "metadata": {},
     "output_type": "execute_result"
    }
   ],
   "source": [
    "energy_data.head(3)"
   ]
  },
  {
   "cell_type": "code",
   "execution_count": 29,
   "metadata": {},
   "outputs": [
    {
     "data": {
      "text/plain": [
       "(Timestamp('2013-02-17 21:09:19'), Timestamp('2013-10-10 10:45:58'))"
      ]
     },
     "execution_count": 29,
     "metadata": {},
     "output_type": "execute_result"
    }
   ],
   "source": [
    "energy_data.index.min(), energy_data.index.max()"
   ]
  },
  {
   "cell_type": "code",
   "execution_count": 30,
   "metadata": {},
   "outputs": [
    {
     "name": "stdout",
     "output_type": "stream",
     "text": [
      "2013-06-17 00:00:00, 2013-09-30 23:59:59\n"
     ]
    }
   ],
   "source": [
    "cutoff_st = '2013-06-17 00:00:00'\n",
    "cutoff_et = '2013-09-30 23:59:59'\n",
    "energy_data = energy_data.loc[cutoff_st:cutoff_et]\n",
    "print('{}, {}'.format(energy_data.index.min(), energy_data.index.max()))"
   ]
  },
  {
   "cell_type": "code",
   "execution_count": 31,
   "metadata": {},
   "outputs": [],
   "source": [
    "energy_data = energy_data.fillna(method='ffill').fillna(method='bfill')\n"
   ]
  },
  {
   "cell_type": "code",
   "execution_count": 32,
   "metadata": {},
   "outputs": [
    {
     "name": "stdout",
     "output_type": "stream",
     "text": [
      "(9158400, 19)\n"
     ]
    }
   ],
   "source": [
    "energy_data = energy_data.asfreq(freq='1S', method='ffill')\n",
    "print(energy_data.shape)"
   ]
  },
  {
   "cell_type": "code",
   "execution_count": 33,
   "metadata": {},
   "outputs": [],
   "source": [
    "if 'aggregate' in energy_data.columns:\n",
    "  energy_data = energy_data.drop('aggregate', axis=1)\n",
    "\n",
    "energy_data['gross'] = energy_data.sum(axis=1)"
   ]
  },
  {
   "cell_type": "code",
   "execution_count": 34,
   "metadata": {},
   "outputs": [],
   "source": [
    "# st = '2013-07-04 00:00:00'\n",
    "# et = '2013-07-04 01:00:00'\n",
    "# sub_df = energy_data.loc[st:et]\n",
    "# print(sub_df.shape)"
   ]
  },
  {
   "cell_type": "code",
   "execution_count": 35,
   "metadata": {},
   "outputs": [],
   "source": [
    "# fig, ax = plt.subplots(1, 1, figsize=(15, 8))\n",
    "\n",
    "# ax = sub_df[['gross']].plot(ax=ax)\n",
    "# ax.grid(True)\n",
    "# ax.set_title('House {}'.format(selected_hid))\n",
    "# ax.set_ylabel('Power consumption in watts')\n",
    "# plt.savefig(\"power consumption pattern in watts for an hour in selected house.png\")"
   ]
  },
  {
   "cell_type": "code",
   "execution_count": 36,
   "metadata": {},
   "outputs": [],
   "source": [
    "energy_data = energy_data.astype(int)\n"
   ]
  },
  {
   "cell_type": "code",
   "execution_count": 37,
   "metadata": {},
   "outputs": [
    {
     "name": "stdout",
     "output_type": "stream",
     "text": [
      "['running_machine', 'laptop2', 'washing_machine', 'dish_washer', 'fridge', 'microwave', 'toaster', 'playstation', 'modem', 'cooker', 'laptop', 'monitor', 'speakers', 'server', 'router', 'server_hdd', 'kettle', 'rice_cooker']\n"
     ]
    }
   ],
   "source": [
    "appliance_cols = ['running_machine', 'laptop2', 'washing_machine',\n",
    "       'dish_washer', 'fridge', 'microwave', 'toaster', 'playstation', 'modem',\n",
    "       'cooker', 'laptop', 'monitor', 'speakers', 'server', 'router',\n",
    "       'server_hdd', 'kettle', 'rice_cooker']\n",
    "print(appliance_cols)"
   ]
  },
  {
   "cell_type": "code",
   "execution_count": 38,
   "metadata": {},
   "outputs": [],
   "source": [
    "# nrow = int(np.ceil(np.sqrt(len(appliance_cols))))\n",
    "# ncol = int(np.ceil(1.0 * len(appliance_cols) / nrow))\n",
    "\n",
    "# fig, axes = plt.subplots(nrow, ncol, figsize=(6*ncol, 4*nrow))\n",
    "# axes[-1, -1].axis('off')\n",
    "\n",
    "# for i, app in enumerate(appliance_cols):\n",
    "#   row_ix = i // 4\n",
    "#   col_ix = i % 4\n",
    "#   ax = axes[row_ix][col_ix]\n",
    "#   lb = energy_data[app].std()\n",
    "#   ub = energy_data[app].max() - lb\n",
    "# #   energy_data[app + '_on'] = energy_data[app].apply(\n",
    "# #       lambda x: 1 if x > lb else 0)\n",
    "#   energy_data[app][(energy_data[app] > lb) & \n",
    "#                    (energy_data[app] < ub)].plot.hist(bins=20, ax=ax)\n",
    "#   ax.set_title(app)\n",
    "#   ax.grid(True)\n",
    "\n",
    "# plt.tight_layout()\n",
    "# plt.savefig(\"power consumption histograms of appliances of selected house.png\")"
   ]
  },
  {
   "cell_type": "code",
   "execution_count": 39,
   "metadata": {},
   "outputs": [
    {
     "data": {
      "text/html": [
       "<div>\n",
       "<style scoped>\n",
       "    .dataframe tbody tr th:only-of-type {\n",
       "        vertical-align: middle;\n",
       "    }\n",
       "\n",
       "    .dataframe tbody tr th {\n",
       "        vertical-align: top;\n",
       "    }\n",
       "\n",
       "    .dataframe thead th {\n",
       "        text-align: right;\n",
       "    }\n",
       "</style>\n",
       "<table border=\"1\" class=\"dataframe\">\n",
       "  <thead>\n",
       "    <tr style=\"text-align: right;\">\n",
       "      <th></th>\n",
       "      <th>running_machine</th>\n",
       "      <th>laptop2</th>\n",
       "      <th>washing_machine</th>\n",
       "      <th>dish_washer</th>\n",
       "      <th>fridge</th>\n",
       "      <th>microwave</th>\n",
       "      <th>toaster</th>\n",
       "      <th>playstation</th>\n",
       "      <th>modem</th>\n",
       "      <th>cooker</th>\n",
       "      <th>...</th>\n",
       "      <th>speakers</th>\n",
       "      <th>server</th>\n",
       "      <th>router</th>\n",
       "      <th>server_hdd</th>\n",
       "      <th>kettle</th>\n",
       "      <th>rice_cooker</th>\n",
       "      <th>gross</th>\n",
       "      <th>power_apparent</th>\n",
       "      <th>voltage</th>\n",
       "      <th>power_active</th>\n",
       "    </tr>\n",
       "  </thead>\n",
       "  <tbody>\n",
       "    <tr>\n",
       "      <th>2013-06-17 00:54:00</th>\n",
       "      <td>1</td>\n",
       "      <td>0</td>\n",
       "      <td>1</td>\n",
       "      <td>0</td>\n",
       "      <td>10</td>\n",
       "      <td>0</td>\n",
       "      <td>0</td>\n",
       "      <td>1</td>\n",
       "      <td>9</td>\n",
       "      <td>0</td>\n",
       "      <td>...</td>\n",
       "      <td>10</td>\n",
       "      <td>13</td>\n",
       "      <td>6</td>\n",
       "      <td>1</td>\n",
       "      <td>1</td>\n",
       "      <td>1</td>\n",
       "      <td>137</td>\n",
       "      <td>165.105911</td>\n",
       "      <td>242.083832</td>\n",
       "      <td>211.452332</td>\n",
       "    </tr>\n",
       "    <tr>\n",
       "      <th>2013-06-17 00:56:00</th>\n",
       "      <td>1</td>\n",
       "      <td>0</td>\n",
       "      <td>1</td>\n",
       "      <td>1</td>\n",
       "      <td>11</td>\n",
       "      <td>0</td>\n",
       "      <td>0</td>\n",
       "      <td>1</td>\n",
       "      <td>9</td>\n",
       "      <td>0</td>\n",
       "      <td>...</td>\n",
       "      <td>10</td>\n",
       "      <td>13</td>\n",
       "      <td>6</td>\n",
       "      <td>1</td>\n",
       "      <td>1</td>\n",
       "      <td>1</td>\n",
       "      <td>137</td>\n",
       "      <td>146.013412</td>\n",
       "      <td>241.960007</td>\n",
       "      <td>148.721054</td>\n",
       "    </tr>\n",
       "    <tr>\n",
       "      <th>2013-06-17 00:58:00</th>\n",
       "      <td>1</td>\n",
       "      <td>0</td>\n",
       "      <td>1</td>\n",
       "      <td>1</td>\n",
       "      <td>100</td>\n",
       "      <td>0</td>\n",
       "      <td>0</td>\n",
       "      <td>1</td>\n",
       "      <td>9</td>\n",
       "      <td>0</td>\n",
       "      <td>...</td>\n",
       "      <td>11</td>\n",
       "      <td>13</td>\n",
       "      <td>6</td>\n",
       "      <td>1</td>\n",
       "      <td>1</td>\n",
       "      <td>1</td>\n",
       "      <td>228</td>\n",
       "      <td>145.492081</td>\n",
       "      <td>241.790497</td>\n",
       "      <td>148.599487</td>\n",
       "    </tr>\n",
       "  </tbody>\n",
       "</table>\n",
       "<p>3 rows × 22 columns</p>\n",
       "</div>"
      ],
      "text/plain": [
       "                     running_machine  laptop2  washing_machine  dish_washer  \\\n",
       "2013-06-17 00:54:00                1        0                1            0   \n",
       "2013-06-17 00:56:00                1        0                1            1   \n",
       "2013-06-17 00:58:00                1        0                1            1   \n",
       "\n",
       "                     fridge  microwave  toaster  playstation  modem  cooker  \\\n",
       "2013-06-17 00:54:00      10          0        0            1      9       0   \n",
       "2013-06-17 00:56:00      11          0        0            1      9       0   \n",
       "2013-06-17 00:58:00     100          0        0            1      9       0   \n",
       "\n",
       "                     ...  speakers  server  router  server_hdd  kettle  \\\n",
       "2013-06-17 00:54:00  ...        10      13       6           1       1   \n",
       "2013-06-17 00:56:00  ...        10      13       6           1       1   \n",
       "2013-06-17 00:58:00  ...        11      13       6           1       1   \n",
       "\n",
       "                     rice_cooker  gross  power_apparent     voltage  \\\n",
       "2013-06-17 00:54:00            1    137      165.105911  242.083832   \n",
       "2013-06-17 00:56:00            1    137      146.013412  241.960007   \n",
       "2013-06-17 00:58:00            1    228      145.492081  241.790497   \n",
       "\n",
       "                     power_active  \n",
       "2013-06-17 00:54:00    211.452332  \n",
       "2013-06-17 00:56:00    148.721054  \n",
       "2013-06-17 00:58:00    148.599487  \n",
       "\n",
       "[3 rows x 22 columns]"
      ]
     },
     "execution_count": 39,
     "metadata": {},
     "output_type": "execute_result"
    }
   ],
   "source": [
    "result = pd.concat([energy_data,df], axis=1, join='inner')\n",
    "result.head(3)"
   ]
  },
  {
   "cell_type": "code",
   "execution_count": 40,
   "metadata": {},
   "outputs": [],
   "source": [
    "result['mean'] = energy_data['gross'].resample('120s').mean()\n",
    "result['min_power']= energy_data['gross'].resample('120s').min()\n",
    "result['max_power']= energy_data['gross'].resample('120s').max()\n",
    "result['std']= energy_data['gross'].resample('120s').std()\n",
    "result['variance']= energy_data['gross'].resample('120s').var()\n",
    "part1=energy_data['gross']\n",
    "result['skew'] = part1.groupby(pd.Grouper(freq='120s')).skew()\n",
    "result['kurtosis']=part1.groupby(pd.Grouper(freq='120s')).apply(pd.Series.kurt)\n"
   ]
  },
  {
   "cell_type": "code",
   "execution_count": 41,
   "metadata": {},
   "outputs": [
    {
     "data": {
      "text/html": [
       "<div>\n",
       "<style scoped>\n",
       "    .dataframe tbody tr th:only-of-type {\n",
       "        vertical-align: middle;\n",
       "    }\n",
       "\n",
       "    .dataframe tbody tr th {\n",
       "        vertical-align: top;\n",
       "    }\n",
       "\n",
       "    .dataframe thead th {\n",
       "        text-align: right;\n",
       "    }\n",
       "</style>\n",
       "<table border=\"1\" class=\"dataframe\">\n",
       "  <thead>\n",
       "    <tr style=\"text-align: right;\">\n",
       "      <th></th>\n",
       "      <th>running_machine</th>\n",
       "      <th>laptop2</th>\n",
       "      <th>washing_machine</th>\n",
       "      <th>dish_washer</th>\n",
       "      <th>fridge</th>\n",
       "      <th>microwave</th>\n",
       "      <th>toaster</th>\n",
       "      <th>playstation</th>\n",
       "      <th>modem</th>\n",
       "      <th>cooker</th>\n",
       "      <th>...</th>\n",
       "      <th>power_apparent</th>\n",
       "      <th>voltage</th>\n",
       "      <th>power_active</th>\n",
       "      <th>mean</th>\n",
       "      <th>min_power</th>\n",
       "      <th>max_power</th>\n",
       "      <th>std</th>\n",
       "      <th>variance</th>\n",
       "      <th>skew</th>\n",
       "      <th>kurtosis</th>\n",
       "    </tr>\n",
       "  </thead>\n",
       "  <tbody>\n",
       "    <tr>\n",
       "      <th>2013-06-17 00:54:00</th>\n",
       "      <td>1</td>\n",
       "      <td>0</td>\n",
       "      <td>1</td>\n",
       "      <td>0</td>\n",
       "      <td>10</td>\n",
       "      <td>0</td>\n",
       "      <td>0</td>\n",
       "      <td>1</td>\n",
       "      <td>9</td>\n",
       "      <td>0</td>\n",
       "      <td>...</td>\n",
       "      <td>165.105911</td>\n",
       "      <td>242.083832</td>\n",
       "      <td>211.452332</td>\n",
       "      <td>138.875000</td>\n",
       "      <td>134</td>\n",
       "      <td>155</td>\n",
       "      <td>4.893079</td>\n",
       "      <td>23.942227</td>\n",
       "      <td>1.761929</td>\n",
       "      <td>2.630482</td>\n",
       "    </tr>\n",
       "    <tr>\n",
       "      <th>2013-06-17 00:56:00</th>\n",
       "      <td>1</td>\n",
       "      <td>0</td>\n",
       "      <td>1</td>\n",
       "      <td>1</td>\n",
       "      <td>11</td>\n",
       "      <td>0</td>\n",
       "      <td>0</td>\n",
       "      <td>1</td>\n",
       "      <td>9</td>\n",
       "      <td>0</td>\n",
       "      <td>...</td>\n",
       "      <td>146.013412</td>\n",
       "      <td>241.960007</td>\n",
       "      <td>148.721054</td>\n",
       "      <td>184.533333</td>\n",
       "      <td>137</td>\n",
       "      <td>246</td>\n",
       "      <td>43.648122</td>\n",
       "      <td>1905.158543</td>\n",
       "      <td>-0.011993</td>\n",
       "      <td>-1.933220</td>\n",
       "    </tr>\n",
       "    <tr>\n",
       "      <th>2013-06-17 00:58:00</th>\n",
       "      <td>1</td>\n",
       "      <td>0</td>\n",
       "      <td>1</td>\n",
       "      <td>1</td>\n",
       "      <td>100</td>\n",
       "      <td>0</td>\n",
       "      <td>0</td>\n",
       "      <td>1</td>\n",
       "      <td>9</td>\n",
       "      <td>0</td>\n",
       "      <td>...</td>\n",
       "      <td>145.492081</td>\n",
       "      <td>241.790497</td>\n",
       "      <td>148.599487</td>\n",
       "      <td>224.958333</td>\n",
       "      <td>221</td>\n",
       "      <td>245</td>\n",
       "      <td>4.676772</td>\n",
       "      <td>21.872199</td>\n",
       "      <td>3.003258</td>\n",
       "      <td>9.809303</td>\n",
       "    </tr>\n",
       "  </tbody>\n",
       "</table>\n",
       "<p>3 rows × 29 columns</p>\n",
       "</div>"
      ],
      "text/plain": [
       "                     running_machine  laptop2  washing_machine  dish_washer  \\\n",
       "2013-06-17 00:54:00                1        0                1            0   \n",
       "2013-06-17 00:56:00                1        0                1            1   \n",
       "2013-06-17 00:58:00                1        0                1            1   \n",
       "\n",
       "                     fridge  microwave  toaster  playstation  modem  cooker  \\\n",
       "2013-06-17 00:54:00      10          0        0            1      9       0   \n",
       "2013-06-17 00:56:00      11          0        0            1      9       0   \n",
       "2013-06-17 00:58:00     100          0        0            1      9       0   \n",
       "\n",
       "                     ...  power_apparent     voltage  power_active  \\\n",
       "2013-06-17 00:54:00  ...      165.105911  242.083832    211.452332   \n",
       "2013-06-17 00:56:00  ...      146.013412  241.960007    148.721054   \n",
       "2013-06-17 00:58:00  ...      145.492081  241.790497    148.599487   \n",
       "\n",
       "                           mean  min_power  max_power        std     variance  \\\n",
       "2013-06-17 00:54:00  138.875000        134        155   4.893079    23.942227   \n",
       "2013-06-17 00:56:00  184.533333        137        246  43.648122  1905.158543   \n",
       "2013-06-17 00:58:00  224.958333        221        245   4.676772    21.872199   \n",
       "\n",
       "                         skew  kurtosis  \n",
       "2013-06-17 00:54:00  1.761929  2.630482  \n",
       "2013-06-17 00:56:00 -0.011993 -1.933220  \n",
       "2013-06-17 00:58:00  3.003258  9.809303  \n",
       "\n",
       "[3 rows x 29 columns]"
      ]
     },
     "execution_count": 41,
     "metadata": {},
     "output_type": "execute_result"
    }
   ],
   "source": [
    "result.head(3)"
   ]
  },
  {
   "cell_type": "code",
   "execution_count": 42,
   "metadata": {},
   "outputs": [],
   "source": [
    "result=result.astype(float)"
   ]
  },
  {
   "cell_type": "code",
   "execution_count": 43,
   "metadata": {},
   "outputs": [],
   "source": [
    "result=result.dropna(how='all')"
   ]
  },
  {
   "cell_type": "code",
   "execution_count": 44,
   "metadata": {},
   "outputs": [
    {
     "data": {
      "text/html": [
       "<div>\n",
       "<style scoped>\n",
       "    .dataframe tbody tr th:only-of-type {\n",
       "        vertical-align: middle;\n",
       "    }\n",
       "\n",
       "    .dataframe tbody tr th {\n",
       "        vertical-align: top;\n",
       "    }\n",
       "\n",
       "    .dataframe thead th {\n",
       "        text-align: right;\n",
       "    }\n",
       "</style>\n",
       "<table border=\"1\" class=\"dataframe\">\n",
       "  <thead>\n",
       "    <tr style=\"text-align: right;\">\n",
       "      <th></th>\n",
       "      <th>running_machine</th>\n",
       "      <th>laptop2</th>\n",
       "      <th>washing_machine</th>\n",
       "      <th>dish_washer</th>\n",
       "      <th>fridge</th>\n",
       "      <th>microwave</th>\n",
       "      <th>toaster</th>\n",
       "      <th>playstation</th>\n",
       "      <th>modem</th>\n",
       "      <th>cooker</th>\n",
       "      <th>laptop</th>\n",
       "      <th>monitor</th>\n",
       "      <th>speakers</th>\n",
       "      <th>server</th>\n",
       "      <th>router</th>\n",
       "      <th>server_hdd</th>\n",
       "      <th>kettle</th>\n",
       "      <th>rice_cooker</th>\n",
       "    </tr>\n",
       "  </thead>\n",
       "  <tbody>\n",
       "    <tr>\n",
       "      <th>2013-06-17 00:54:00</th>\n",
       "      <td>1.0</td>\n",
       "      <td>0.0</td>\n",
       "      <td>1.0</td>\n",
       "      <td>0.0</td>\n",
       "      <td>10.0</td>\n",
       "      <td>0.0</td>\n",
       "      <td>0.0</td>\n",
       "      <td>1.0</td>\n",
       "      <td>9.0</td>\n",
       "      <td>0.0</td>\n",
       "      <td>22.0</td>\n",
       "      <td>61.0</td>\n",
       "      <td>10.0</td>\n",
       "      <td>13.0</td>\n",
       "      <td>6.0</td>\n",
       "      <td>1.0</td>\n",
       "      <td>1.0</td>\n",
       "      <td>1.0</td>\n",
       "    </tr>\n",
       "    <tr>\n",
       "      <th>2013-06-17 00:56:00</th>\n",
       "      <td>1.0</td>\n",
       "      <td>0.0</td>\n",
       "      <td>1.0</td>\n",
       "      <td>1.0</td>\n",
       "      <td>11.0</td>\n",
       "      <td>0.0</td>\n",
       "      <td>0.0</td>\n",
       "      <td>1.0</td>\n",
       "      <td>9.0</td>\n",
       "      <td>0.0</td>\n",
       "      <td>20.0</td>\n",
       "      <td>61.0</td>\n",
       "      <td>10.0</td>\n",
       "      <td>13.0</td>\n",
       "      <td>6.0</td>\n",
       "      <td>1.0</td>\n",
       "      <td>1.0</td>\n",
       "      <td>1.0</td>\n",
       "    </tr>\n",
       "  </tbody>\n",
       "</table>\n",
       "</div>"
      ],
      "text/plain": [
       "                     running_machine  laptop2  washing_machine  dish_washer  \\\n",
       "2013-06-17 00:54:00              1.0      0.0              1.0          0.0   \n",
       "2013-06-17 00:56:00              1.0      0.0              1.0          1.0   \n",
       "\n",
       "                     fridge  microwave  toaster  playstation  modem  cooker  \\\n",
       "2013-06-17 00:54:00    10.0        0.0      0.0          1.0    9.0     0.0   \n",
       "2013-06-17 00:56:00    11.0        0.0      0.0          1.0    9.0     0.0   \n",
       "\n",
       "                     laptop  monitor  speakers  server  router  server_hdd  \\\n",
       "2013-06-17 00:54:00    22.0     61.0      10.0    13.0     6.0         1.0   \n",
       "2013-06-17 00:56:00    20.0     61.0      10.0    13.0     6.0         1.0   \n",
       "\n",
       "                     kettle  rice_cooker  \n",
       "2013-06-17 00:54:00     1.0          1.0  \n",
       "2013-06-17 00:56:00     1.0          1.0  "
      ]
     },
     "execution_count": 44,
     "metadata": {},
     "output_type": "execute_result"
    }
   ],
   "source": [
    "y=result.drop(['mean','gross','min_power','max_power','std','skew','kurtosis','voltage','power_apparent','power_active','variance'],axis=1)\n",
    "y.head(2)"
   ]
  },
  {
   "cell_type": "code",
   "execution_count": 45,
   "metadata": {},
   "outputs": [],
   "source": [
    "for i, app in enumerate(appliance_cols):\n",
    "  lb = y[app].std()\n",
    "  ub = y[app].max() - lb\n",
    "  y[app + '_on'] = y[app].apply( lambda x: 1 if x > lb else 0)\n",
    "  y=y.drop([app],axis=1)"
   ]
  },
  {
   "cell_type": "code",
   "execution_count": 46,
   "metadata": {},
   "outputs": [
    {
     "data": {
      "text/html": [
       "<div>\n",
       "<style scoped>\n",
       "    .dataframe tbody tr th:only-of-type {\n",
       "        vertical-align: middle;\n",
       "    }\n",
       "\n",
       "    .dataframe tbody tr th {\n",
       "        vertical-align: top;\n",
       "    }\n",
       "\n",
       "    .dataframe thead th {\n",
       "        text-align: right;\n",
       "    }\n",
       "</style>\n",
       "<table border=\"1\" class=\"dataframe\">\n",
       "  <thead>\n",
       "    <tr style=\"text-align: right;\">\n",
       "      <th></th>\n",
       "      <th>running_machine_on</th>\n",
       "      <th>laptop2_on</th>\n",
       "      <th>washing_machine_on</th>\n",
       "      <th>dish_washer_on</th>\n",
       "      <th>fridge_on</th>\n",
       "      <th>microwave_on</th>\n",
       "      <th>toaster_on</th>\n",
       "      <th>playstation_on</th>\n",
       "      <th>modem_on</th>\n",
       "      <th>cooker_on</th>\n",
       "      <th>laptop_on</th>\n",
       "      <th>monitor_on</th>\n",
       "      <th>speakers_on</th>\n",
       "      <th>server_on</th>\n",
       "      <th>router_on</th>\n",
       "      <th>server_hdd_on</th>\n",
       "      <th>kettle_on</th>\n",
       "      <th>rice_cooker_on</th>\n",
       "    </tr>\n",
       "  </thead>\n",
       "  <tbody>\n",
       "    <tr>\n",
       "      <th>2013-06-17 00:54:00</th>\n",
       "      <td>0</td>\n",
       "      <td>0</td>\n",
       "      <td>0</td>\n",
       "      <td>0</td>\n",
       "      <td>0</td>\n",
       "      <td>0</td>\n",
       "      <td>0</td>\n",
       "      <td>1</td>\n",
       "      <td>1</td>\n",
       "      <td>0</td>\n",
       "      <td>1</td>\n",
       "      <td>1</td>\n",
       "      <td>1</td>\n",
       "      <td>1</td>\n",
       "      <td>1</td>\n",
       "      <td>0</td>\n",
       "      <td>0</td>\n",
       "      <td>0</td>\n",
       "    </tr>\n",
       "    <tr>\n",
       "      <th>2013-06-17 00:56:00</th>\n",
       "      <td>0</td>\n",
       "      <td>0</td>\n",
       "      <td>0</td>\n",
       "      <td>0</td>\n",
       "      <td>0</td>\n",
       "      <td>0</td>\n",
       "      <td>0</td>\n",
       "      <td>1</td>\n",
       "      <td>1</td>\n",
       "      <td>0</td>\n",
       "      <td>1</td>\n",
       "      <td>1</td>\n",
       "      <td>1</td>\n",
       "      <td>1</td>\n",
       "      <td>1</td>\n",
       "      <td>0</td>\n",
       "      <td>0</td>\n",
       "      <td>0</td>\n",
       "    </tr>\n",
       "    <tr>\n",
       "      <th>2013-06-17 00:58:00</th>\n",
       "      <td>0</td>\n",
       "      <td>0</td>\n",
       "      <td>0</td>\n",
       "      <td>0</td>\n",
       "      <td>1</td>\n",
       "      <td>0</td>\n",
       "      <td>0</td>\n",
       "      <td>1</td>\n",
       "      <td>1</td>\n",
       "      <td>0</td>\n",
       "      <td>1</td>\n",
       "      <td>1</td>\n",
       "      <td>1</td>\n",
       "      <td>1</td>\n",
       "      <td>1</td>\n",
       "      <td>0</td>\n",
       "      <td>0</td>\n",
       "      <td>0</td>\n",
       "    </tr>\n",
       "  </tbody>\n",
       "</table>\n",
       "</div>"
      ],
      "text/plain": [
       "                     running_machine_on  laptop2_on  washing_machine_on  \\\n",
       "2013-06-17 00:54:00                   0           0                   0   \n",
       "2013-06-17 00:56:00                   0           0                   0   \n",
       "2013-06-17 00:58:00                   0           0                   0   \n",
       "\n",
       "                     dish_washer_on  fridge_on  microwave_on  toaster_on  \\\n",
       "2013-06-17 00:54:00               0          0             0           0   \n",
       "2013-06-17 00:56:00               0          0             0           0   \n",
       "2013-06-17 00:58:00               0          1             0           0   \n",
       "\n",
       "                     playstation_on  modem_on  cooker_on  laptop_on  \\\n",
       "2013-06-17 00:54:00               1         1          0          1   \n",
       "2013-06-17 00:56:00               1         1          0          1   \n",
       "2013-06-17 00:58:00               1         1          0          1   \n",
       "\n",
       "                     monitor_on  speakers_on  server_on  router_on  \\\n",
       "2013-06-17 00:54:00           1            1          1          1   \n",
       "2013-06-17 00:56:00           1            1          1          1   \n",
       "2013-06-17 00:58:00           1            1          1          1   \n",
       "\n",
       "                     server_hdd_on  kettle_on  rice_cooker_on  \n",
       "2013-06-17 00:54:00              0          0               0  \n",
       "2013-06-17 00:56:00              0          0               0  \n",
       "2013-06-17 00:58:00              0          0               0  "
      ]
     },
     "execution_count": 46,
     "metadata": {},
     "output_type": "execute_result"
    }
   ],
   "source": [
    "y.head(3)"
   ]
  },
  {
   "cell_type": "code",
   "execution_count": 47,
   "metadata": {},
   "outputs": [
    {
     "data": {
      "text/plain": [
       "running_machine_on      246\n",
       "laptop2_on            12171\n",
       "washing_machine_on      561\n",
       "dish_washer_on         1145\n",
       "fridge_on             43888\n",
       "microwave_on            293\n",
       "toaster_on               11\n",
       "playstation_on        73744\n",
       "modem_on              76285\n",
       "cooker_on              1173\n",
       "laptop_on             38507\n",
       "monitor_on            33820\n",
       "speakers_on           45173\n",
       "server_on             76293\n",
       "router_on             76282\n",
       "server_hdd_on         12258\n",
       "kettle_on              1216\n",
       "rice_cooker_on          642\n",
       "dtype: int64"
      ]
     },
     "execution_count": 47,
     "metadata": {},
     "output_type": "execute_result"
    }
   ],
   "source": [
    "y.isin([1]).sum(axis=0)"
   ]
  },
  {
   "cell_type": "code",
   "execution_count": 48,
   "metadata": {},
   "outputs": [
    {
     "data": {
      "text/html": [
       "<div>\n",
       "<style scoped>\n",
       "    .dataframe tbody tr th:only-of-type {\n",
       "        vertical-align: middle;\n",
       "    }\n",
       "\n",
       "    .dataframe tbody tr th {\n",
       "        vertical-align: top;\n",
       "    }\n",
       "\n",
       "    .dataframe thead th {\n",
       "        text-align: right;\n",
       "    }\n",
       "</style>\n",
       "<table border=\"1\" class=\"dataframe\">\n",
       "  <thead>\n",
       "    <tr style=\"text-align: right;\">\n",
       "      <th></th>\n",
       "      <th>gross</th>\n",
       "      <th>mean</th>\n",
       "      <th>min_power</th>\n",
       "      <th>max_power</th>\n",
       "      <th>std</th>\n",
       "      <th>variance</th>\n",
       "      <th>skew</th>\n",
       "      <th>kurtosis</th>\n",
       "      <th>voltage</th>\n",
       "      <th>power_apparent</th>\n",
       "      <th>power_active</th>\n",
       "    </tr>\n",
       "  </thead>\n",
       "  <tbody>\n",
       "    <tr>\n",
       "      <th>2013-06-17 00:54:00</th>\n",
       "      <td>137.0</td>\n",
       "      <td>138.875</td>\n",
       "      <td>134.0</td>\n",
       "      <td>155.0</td>\n",
       "      <td>4.893079</td>\n",
       "      <td>23.942227</td>\n",
       "      <td>1.761929</td>\n",
       "      <td>2.630482</td>\n",
       "      <td>242.083832</td>\n",
       "      <td>165.105911</td>\n",
       "      <td>211.452332</td>\n",
       "    </tr>\n",
       "  </tbody>\n",
       "</table>\n",
       "</div>"
      ],
      "text/plain": [
       "                     gross     mean  min_power  max_power       std  \\\n",
       "2013-06-17 00:54:00  137.0  138.875      134.0      155.0  4.893079   \n",
       "\n",
       "                      variance      skew  kurtosis     voltage  \\\n",
       "2013-06-17 00:54:00  23.942227  1.761929  2.630482  242.083832   \n",
       "\n",
       "                     power_apparent  power_active  \n",
       "2013-06-17 00:54:00      165.105911    211.452332  "
      ]
     },
     "execution_count": 48,
     "metadata": {},
     "output_type": "execute_result"
    }
   ],
   "source": [
    "X=result[['gross','mean','min_power','max_power','std','variance','skew','kurtosis','voltage','power_apparent','power_active']]\n",
    "X.head(1)"
   ]
  },
  {
   "cell_type": "code",
   "execution_count": 49,
   "metadata": {},
   "outputs": [],
   "source": [
    "X=X.astype('float')"
   ]
  },
  {
   "cell_type": "code",
   "execution_count": 50,
   "metadata": {},
   "outputs": [],
   "source": [
    "# X=X.astype(int)\n",
    "# X[X < 0] = 0"
   ]
  },
  {
   "cell_type": "code",
   "execution_count": 51,
   "metadata": {},
   "outputs": [],
   "source": [
    "# !pip install seaborn"
   ]
  },
  {
   "cell_type": "code",
   "execution_count": 52,
   "metadata": {},
   "outputs": [],
   "source": [
    "# import seaborn as sns\n",
    "# corr=X.corr()"
   ]
  },
  {
   "cell_type": "code",
   "execution_count": 53,
   "metadata": {},
   "outputs": [],
   "source": [
    "# fig, ax = plt.subplots(figsize=(11,11))\n",
    "# fig1=sns.heatmap(corr,annot = True,fmt='.1g',ax=ax)\n",
    "# fig1 = fig1.get_figure()    \n",
    "# fig1.savefig('correlation matrix of input features.png', dpi=400)\n"
   ]
  },
  {
   "cell_type": "code",
   "execution_count": 54,
   "metadata": {},
   "outputs": [],
   "source": [
    "# plt.style.use('ggplot')\n",
    "\n",
    "# fig, ax = plt.subplots(figsize=(8, 10))\n",
    "# for col in y:\n",
    "#      ax.plot(X.corrwith(y[col]),label=col)\n",
    "#      leg = ax.legend()\n",
    "# plt.xlabel('Input features')\n",
    "# plt.ylabel('correlation coefficient of input features with appliance ON/OFF status')"
   ]
  },
  {
   "cell_type": "code",
   "execution_count": 55,
   "metadata": {},
   "outputs": [],
   "source": [
    "# corr_ana=result.corr()"
   ]
  },
  {
   "cell_type": "code",
   "execution_count": 56,
   "metadata": {},
   "outputs": [],
   "source": [
    "# fig, ax = plt.subplots(figsize=(20,10))\n",
    "# sns.heatmap(corr_ana,annot = True,fmt='.1g',ax=ax)"
   ]
  },
  {
   "cell_type": "code",
   "execution_count": 57,
   "metadata": {},
   "outputs": [],
   "source": [
    "# from sklearn.ensemble import ExtraTreesClassifier\n",
    "# import matplotlib.pyplot as plt\n",
    "# model = ExtraTreesClassifier()\n",
    "# model.fit(X,y)\n",
    "# print(model.feature_importances_) #use inbuilt class feature_importances of tree based classifiers\n",
    "# #plot graph of feature importances for better visualization\n",
    "# feat_importances = pd.Series(model.feature_importances_, index=X.columns)\n",
    "# feat_importances.nlargest(10).plot(kind='barh')\n",
    "# plt.savefig('graph of feature importances.png',dpi=400)\n",
    "# plt.show()"
   ]
  },
  {
   "cell_type": "code",
   "execution_count": 58,
   "metadata": {},
   "outputs": [],
   "source": [
    "X=X[['gross','mean','min_power','max_power','power_active','std','voltage']]"
   ]
  },
  {
   "cell_type": "code",
   "execution_count": 59,
   "metadata": {},
   "outputs": [],
   "source": [
    "y=y[['washing_machine_on','dish_washer_on', 'fridge_on', 'microwave_on', 'cooker_on', 'laptop_on', 'monitor_on', 'kettle_on',\n",
    "       'rice_cooker_on']]"
   ]
  },
  {
   "cell_type": "code",
   "execution_count": 60,
   "metadata": {},
   "outputs": [
    {
     "data": {
      "text/plain": [
       "array([[-0.21802109, -0.22487677, -0.18497173, -0.23523845, -0.40613593,\n",
       "        -0.15057041,  1.03915445],\n",
       "       [-0.21802109, -0.12212384, -0.17733419, -0.0703674 , -0.47979557,\n",
       "         0.11726556,  0.96588904],\n",
       "       [-0.02337358, -0.0311484 ,  0.03651713, -0.07217917, -0.47993832,\n",
       "        -0.15206531,  0.86559261],\n",
       "       [-0.03834647, -0.03714967,  0.02887958, -0.10479103, -0.47591012,\n",
       "        -0.16695815,  0.71856522],\n",
       "       [-0.02979053, -0.0351805 ,  0.01869619, -0.08123802, -0.47607691,\n",
       "        -0.13638568,  0.69361074]])"
      ]
     },
     "execution_count": 60,
     "metadata": {},
     "output_type": "execute_result"
    }
   ],
   "source": [
    "from sklearn import preprocessing\n",
    "X= preprocessing.StandardScaler().fit(X).transform(X)\n",
    "X[0:5]"
   ]
  },
  {
   "cell_type": "code",
   "execution_count": 61,
   "metadata": {},
   "outputs": [],
   "source": [
    "from sklearn.model_selection import train_test_split\n",
    "X_train, X_test, y_train, y_test = train_test_split( X, y, test_size=0.2, random_state=4)"
   ]
  },
  {
   "cell_type": "code",
   "execution_count": 62,
   "metadata": {},
   "outputs": [
    {
     "name": "stdout",
     "output_type": "stream",
     "text": [
      "Train set: (61034, 7) (61034, 9)\n",
      "Test set: (15259, 7) (15259, 9)\n"
     ]
    }
   ],
   "source": [
    "print ('Train set:', X_train.shape,  y_train.shape)\n",
    "print ('Test set:', X_test.shape,  y_test.shape)"
   ]
  },
  {
   "cell_type": "code",
   "execution_count": 63,
   "metadata": {},
   "outputs": [],
   "source": [
    "import numpy as np\n",
    "y=y.to_numpy()\n",
    "y=y.astype(int)"
   ]
  },
  {
   "cell_type": "code",
   "execution_count": 64,
   "metadata": {},
   "outputs": [],
   "source": [
    "# !pip install scikit-multilearn"
   ]
  },
  {
   "cell_type": "code",
   "execution_count": 65,
   "metadata": {},
   "outputs": [],
   "source": [
    "# Number of trees in random forest\n",
    "n_estimators = [int(x) for x in np.linspace(start = 50, stop = 150, num = 10)]\n",
    "# \n",
    "# Number of features to consider at every split\n",
    "max_features = ['auto', 'sqrt']\n",
    "# Maximum number of levels in tree\n",
    "max_depth = range(1,20,1)\n",
    "# Minimum number of samples required to split a node\n",
    "min_samples_split = range(1,10,1)\n",
    "# Minimum number of samples required at each leaf node\n",
    "min_samples_leaf = range(1,10,1)\n",
    "# Method of selecting samples for training each tree\n",
    "bootstrap = [True, False]\n"
   ]
  },
  {
   "cell_type": "code",
   "execution_count": 66,
   "metadata": {},
   "outputs": [],
   "source": [
    "param_grid = {'n_estimators': n_estimators,\n",
    "               'max_features': max_features,\n",
    "               'max_depth': max_depth,\n",
    "                'min_samples_split': min_samples_split,\n",
    "                'min_samples_leaf': min_samples_leaf,\n",
    "               'bootstrap': bootstrap,\n",
    "               'oob_score': bootstrap\n",
    "             }"
   ]
  },
  {
   "cell_type": "code",
   "execution_count": 67,
   "metadata": {},
   "outputs": [],
   "source": [
    "# !pip install xgboost"
   ]
  },
  {
   "cell_type": "code",
   "execution_count": 68,
   "metadata": {},
   "outputs": [],
   "source": [
    "from sklearn.ensemble import RandomForestClassifier\n",
    "rfc = RandomForestClassifier(n_jobs=None,random_state=27,verbose=1)"
   ]
  },
  {
   "cell_type": "code",
   "execution_count": 69,
   "metadata": {},
   "outputs": [],
   "source": [
    "from xgboost import XGBClassifier"
   ]
  },
  {
   "cell_type": "code",
   "execution_count": 70,
   "metadata": {},
   "outputs": [],
   "source": [
    "from sklearn.model_selection import RandomizedSearchCV\n",
    "rf_RandomGrid = RandomizedSearchCV(estimator = rfc, param_distributions = param_grid, cv = 3,n_jobs=4)"
   ]
  },
  {
   "cell_type": "code",
   "execution_count": 71,
   "metadata": {},
   "outputs": [
    {
     "name": "stderr",
     "output_type": "stream",
     "text": [
      "[Parallel(n_jobs=1)]: Using backend SequentialBackend with 1 concurrent workers.\n",
      "[Parallel(n_jobs=1)]: Done  61 out of  61 | elapsed:   17.1s finished\n"
     ]
    },
    {
     "data": {
      "text/plain": [
       "RandomizedSearchCV(cv=3,\n",
       "                   estimator=RandomForestClassifier(random_state=27, verbose=1),\n",
       "                   n_jobs=4,\n",
       "                   param_distributions={'bootstrap': [True, False],\n",
       "                                        'max_depth': range(1, 20),\n",
       "                                        'max_features': ['auto', 'sqrt'],\n",
       "                                        'min_samples_leaf': range(1, 10),\n",
       "                                        'min_samples_split': range(1, 10),\n",
       "                                        'n_estimators': [50, 61, 72, 83, 94,\n",
       "                                                         105, 116, 127, 138,\n",
       "                                                         150],\n",
       "                                        'oob_score': [True, False]})"
      ]
     },
     "execution_count": 71,
     "metadata": {},
     "output_type": "execute_result"
    }
   ],
   "source": [
    "rf_RandomGrid.fit(X_train, y_train)"
   ]
  },
  {
   "cell_type": "code",
   "execution_count": 72,
   "metadata": {
    "scrolled": true
   },
   "outputs": [],
   "source": [
    "rfc1=rf_RandomGrid.best_estimator_"
   ]
  },
  {
   "cell_type": "code",
   "execution_count": 73,
   "metadata": {},
   "outputs": [
    {
     "name": "stderr",
     "output_type": "stream",
     "text": [
      "[Parallel(n_jobs=1)]: Using backend SequentialBackend with 1 concurrent workers.\n"
     ]
    },
    {
     "name": "stdout",
     "output_type": "stream",
     "text": [
      "Test Accuracy - : 0.907\n"
     ]
    },
    {
     "name": "stderr",
     "output_type": "stream",
     "text": [
      "[Parallel(n_jobs=1)]: Done  61 out of  61 | elapsed:    0.8s finished\n"
     ]
    }
   ],
   "source": [
    "\n",
    "print (f'Test Accuracy - : {rfc1.score(X_test,y_test):.3f}')"
   ]
  },
  {
   "cell_type": "code",
   "execution_count": 74,
   "metadata": {},
   "outputs": [
    {
     "name": "stderr",
     "output_type": "stream",
     "text": [
      "[Parallel(n_jobs=1)]: Using backend SequentialBackend with 1 concurrent workers.\n"
     ]
    },
    {
     "name": "stdout",
     "output_type": "stream",
     "text": [
      "Train Accuracy - : 0.937\n"
     ]
    },
    {
     "name": "stderr",
     "output_type": "stream",
     "text": [
      "[Parallel(n_jobs=1)]: Done  61 out of  61 | elapsed:    3.6s finished\n"
     ]
    }
   ],
   "source": [
    "print (f'Train Accuracy - : {rfc1.score(X_train,y_train):.3f}')"
   ]
  },
  {
   "cell_type": "code",
   "execution_count": 75,
   "metadata": {},
   "outputs": [],
   "source": [
    "def getTrainScores(gs):\n",
    "    results = {}\n",
    "    runs = 0\n",
    "    for x,y in zip(list(gs.cv_results_['mean_test_score']), gs.cv_results_['params']):\n",
    "        results[runs] = 'mean:' + str(x) + 'params' + str(y)\n",
    "        runs += 1\n",
    "    best = {'best_mean': gs.best_score_, \"best_param\":gs.best_params_}\n",
    "    return results, best"
   ]
  },
  {
   "cell_type": "code",
   "execution_count": 76,
   "metadata": {},
   "outputs": [
    {
     "data": {
      "text/plain": [
       "({0: \"mean:0.8774453689970696params{'oob_score': False, 'n_estimators': 150, 'min_samples_split': 5, 'min_samples_leaf': 5, 'max_features': 'auto', 'max_depth': 7, 'bootstrap': False}\",\n",
       "  1: \"mean:0.8997607884776696params{'oob_score': False, 'n_estimators': 61, 'min_samples_split': 3, 'min_samples_leaf': 3, 'max_features': 'sqrt', 'max_depth': 13, 'bootstrap': False}\",\n",
       "  2: \"mean:0.8847036099108442params{'oob_score': False, 'n_estimators': 127, 'min_samples_split': 9, 'min_samples_leaf': 5, 'max_features': 'sqrt', 'max_depth': 8, 'bootstrap': False}\",\n",
       "  3: \"mean:nanparams{'oob_score': True, 'n_estimators': 94, 'min_samples_split': 8, 'min_samples_leaf': 7, 'max_features': 'sqrt', 'max_depth': 14, 'bootstrap': False}\",\n",
       "  4: \"mean:nanparams{'oob_score': True, 'n_estimators': 94, 'min_samples_split': 5, 'min_samples_leaf': 1, 'max_features': 'auto', 'max_depth': 13, 'bootstrap': False}\",\n",
       "  5: \"mean:0.8845397751288632params{'oob_score': False, 'n_estimators': 138, 'min_samples_split': 2, 'min_samples_leaf': 2, 'max_features': 'sqrt', 'max_depth': 8, 'bootstrap': False}\",\n",
       "  6: \"mean:0.8955500309077252params{'oob_score': True, 'n_estimators': 150, 'min_samples_split': 6, 'min_samples_leaf': 8, 'max_features': 'sqrt', 'max_depth': 15, 'bootstrap': True}\",\n",
       "  7: \"mean:nanparams{'oob_score': True, 'n_estimators': 105, 'min_samples_split': 3, 'min_samples_leaf': 8, 'max_features': 'auto', 'max_depth': 12, 'bootstrap': False}\",\n",
       "  8: \"mean:0.895599197529856params{'oob_score': True, 'n_estimators': 116, 'min_samples_split': 9, 'min_samples_leaf': 5, 'max_features': 'auto', 'max_depth': 12, 'bootstrap': True}\",\n",
       "  9: \"mean:0.887292344912367params{'oob_score': False, 'n_estimators': 94, 'min_samples_split': 3, 'min_samples_leaf': 8, 'max_features': 'sqrt', 'max_depth': 9, 'bootstrap': True}\"},\n",
       " {'best_mean': 0.8997607884776696,\n",
       "  'best_param': {'oob_score': False,\n",
       "   'n_estimators': 61,\n",
       "   'min_samples_split': 3,\n",
       "   'min_samples_leaf': 3,\n",
       "   'max_features': 'sqrt',\n",
       "   'max_depth': 13,\n",
       "   'bootstrap': False}})"
      ]
     },
     "execution_count": 76,
     "metadata": {},
     "output_type": "execute_result"
    }
   ],
   "source": [
    "getTrainScores(rf_RandomGrid)"
   ]
  },
  {
   "cell_type": "code",
   "execution_count": 77,
   "metadata": {},
   "outputs": [],
   "source": [
    "# from sklearn.multioutput import MultiOutputClassifier\n",
    "# from sklearn import metrics\n",
    "# def get_models():\n",
    "#     models = dict()\n",
    "#     y_pred = dict()\n",
    "#     score=[]\n",
    "#     for i in range(1,10,1):\n",
    "#         key = '%.4f' % i\n",
    "#         clf = XGBClassifier(estimator=rf_RandomGrid,learning_rate=0.1,n_estimators=250,max_depth=10,min_child_weight=i)\n",
    "#         models[key] = MultiOutputClassifier(clf, n_jobs=-1)\n",
    "        \n",
    "#     return models"
   ]
  },
  {
   "cell_type": "code",
   "execution_count": 78,
   "metadata": {},
   "outputs": [],
   "source": [
    "# score=[]\n",
    "# y_pred={}\n",
    "# for models in get_models():\n",
    "#     multi_target_classifier=get_models().get(models).fit(X_train, y_train)\n",
    "#     y_pred[models] = multi_target_classifier.predict(X_test)\n",
    "#     score.append(metrics.accuracy_score(y_test, y_pred[models]))\n",
    "#     print(score)"
   ]
  },
  {
   "cell_type": "code",
   "execution_count": 79,
   "metadata": {},
   "outputs": [],
   "source": [
    "from sklearn.multioutput import MultiOutputClassifier\n",
    "clf = XGBClassifier(estimator=rfc1\n",
    "                    ,learning_rate=0.1,\n",
    "                    n_estimators=250,\n",
    "#                        max_depth=10,\n",
    "#                        min_child_weight=2,\n",
    "#                     gamma=0,\n",
    "#                     subsample=0.8,\n",
    "#                     colsample_bytree=0.8,\n",
    "#                     objective='multi:softprob',\n",
    "#                      nthread=4\n",
    "#                     num_class=9,\n",
    "#                     seed=27\n",
    "                    )\n",
    "multi_target_classifier = MultiOutputClassifier(clf, n_jobs=-1)\n",
    "multi_target_classifier.fit(X_train, y_train)\n",
    "y_pred = multi_target_classifier.predict(X_test)\n"
   ]
  },
  {
   "cell_type": "code",
   "execution_count": 80,
   "metadata": {},
   "outputs": [
    {
     "data": {
      "text/plain": [
       "0.901762894029753"
      ]
     },
     "execution_count": 80,
     "metadata": {},
     "output_type": "execute_result"
    }
   ],
   "source": [
    "from sklearn import metrics\n",
    "metrics.accuracy_score(y_test, y_pred)"
   ]
  },
  {
   "cell_type": "code",
   "execution_count": 81,
   "metadata": {},
   "outputs": [],
   "source": [
    "ypred2= multi_target_classifier.predict(X_train)"
   ]
  },
  {
   "cell_type": "code",
   "execution_count": 82,
   "metadata": {},
   "outputs": [
    {
     "data": {
      "text/plain": [
       "0.9299243044860241"
      ]
     },
     "execution_count": 82,
     "metadata": {},
     "output_type": "execute_result"
    }
   ],
   "source": [
    "metrics.accuracy_score(y_train, ypred2)"
   ]
  },
  {
   "cell_type": "code",
   "execution_count": 83,
   "metadata": {},
   "outputs": [],
   "source": [
    "import pickle\n",
    "\n",
    "pickl = {'model': multi_target_classifier}\n",
    "pickle.dump(pickl, open('model_file'+'.p','wb'))"
   ]
  },
  {
   "cell_type": "code",
   "execution_count": 84,
   "metadata": {},
   "outputs": [],
   "source": [
    "file_name = 'model_file.p'\n",
    "with open(file_name,'rb') as pickled:\n",
    "    data = pickle.load(pickled)\n",
    "    model = data['model']"
   ]
  },
  {
   "cell_type": "code",
   "execution_count": 85,
   "metadata": {},
   "outputs": [
    {
     "data": {
      "text/plain": [
       "array([[0, 0, 0, 0, 0, 1, 1, 0, 0]], dtype=int64)"
      ]
     },
     "execution_count": 85,
     "metadata": {},
     "output_type": "execute_result"
    }
   ],
   "source": [
    "model.predict(X_test[10,:].reshape(1,-1))"
   ]
  }
 ],
 "metadata": {
  "kernelspec": {
   "display_name": "Python 3",
   "language": "python",
   "name": "python3"
  },
  "language_info": {
   "codemirror_mode": {
    "name": "ipython",
    "version": 3
   },
   "file_extension": ".py",
   "mimetype": "text/x-python",
   "name": "python",
   "nbconvert_exporter": "python",
   "pygments_lexer": "ipython3",
   "version": "3.8.5"
  }
 },
 "nbformat": 4,
 "nbformat_minor": 4
}
