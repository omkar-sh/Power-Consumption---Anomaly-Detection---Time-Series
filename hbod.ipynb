{
 "cells": [
  {
   "cell_type": "markdown",
   "metadata": {},
   "source": [
    "# Histogram Based Outlier Detection"
   ]
  },
  {
   "cell_type": "code",
   "execution_count": 1,
   "metadata": {},
   "outputs": [],
   "source": [
    "import numpy as np\n",
    "import pandas as pd\n",
    "import matplotlib.pyplot as plt\n",
    "%matplotlib inline"
   ]
  },
  {
   "cell_type": "code",
   "execution_count": 2,
   "metadata": {},
   "outputs": [
    {
     "data": {
      "text/html": [
       "<div>\n",
       "<style scoped>\n",
       "    .dataframe tbody tr th:only-of-type {\n",
       "        vertical-align: middle;\n",
       "    }\n",
       "\n",
       "    .dataframe tbody tr th {\n",
       "        vertical-align: top;\n",
       "    }\n",
       "\n",
       "    .dataframe thead th {\n",
       "        text-align: right;\n",
       "    }\n",
       "</style>\n",
       "<table border=\"1\" class=\"dataframe\">\n",
       "  <thead>\n",
       "    <tr style=\"text-align: right;\">\n",
       "      <th></th>\n",
       "      <th>physical_quantity</th>\n",
       "      <th>power</th>\n",
       "    </tr>\n",
       "  </thead>\n",
       "  <tbody>\n",
       "    <tr>\n",
       "      <th>0</th>\n",
       "      <td>2012-12-14 22:21:32+00:00</td>\n",
       "      <td>85</td>\n",
       "    </tr>\n",
       "    <tr>\n",
       "      <th>1</th>\n",
       "      <td>2012-12-14 22:21:38+00:00</td>\n",
       "      <td>85</td>\n",
       "    </tr>\n",
       "    <tr>\n",
       "      <th>2</th>\n",
       "      <td>2012-12-14 22:21:44+00:00</td>\n",
       "      <td>84</td>\n",
       "    </tr>\n",
       "    <tr>\n",
       "      <th>3</th>\n",
       "      <td>2012-12-14 22:21:50+00:00</td>\n",
       "      <td>85</td>\n",
       "    </tr>\n",
       "    <tr>\n",
       "      <th>4</th>\n",
       "      <td>2012-12-14 22:21:56+00:00</td>\n",
       "      <td>85</td>\n",
       "    </tr>\n",
       "    <tr>\n",
       "      <th>5</th>\n",
       "      <td>2012-12-14 22:22:02+00:00</td>\n",
       "      <td>85</td>\n",
       "    </tr>\n",
       "    <tr>\n",
       "      <th>6</th>\n",
       "      <td>2012-12-14 22:22:08+00:00</td>\n",
       "      <td>85</td>\n",
       "    </tr>\n",
       "    <tr>\n",
       "      <th>7</th>\n",
       "      <td>2012-12-14 22:22:14+00:00</td>\n",
       "      <td>85</td>\n",
       "    </tr>\n",
       "    <tr>\n",
       "      <th>8</th>\n",
       "      <td>2012-12-14 22:22:20+00:00</td>\n",
       "      <td>85</td>\n",
       "    </tr>\n",
       "    <tr>\n",
       "      <th>9</th>\n",
       "      <td>2012-12-14 22:22:26+00:00</td>\n",
       "      <td>86</td>\n",
       "    </tr>\n",
       "  </tbody>\n",
       "</table>\n",
       "</div>"
      ],
      "text/plain": [
       "           physical_quantity  power\n",
       "0  2012-12-14 22:21:32+00:00     85\n",
       "1  2012-12-14 22:21:38+00:00     85\n",
       "2  2012-12-14 22:21:44+00:00     84\n",
       "3  2012-12-14 22:21:50+00:00     85\n",
       "4  2012-12-14 22:21:56+00:00     85\n",
       "5  2012-12-14 22:22:02+00:00     85\n",
       "6  2012-12-14 22:22:08+00:00     85\n",
       "7  2012-12-14 22:22:14+00:00     85\n",
       "8  2012-12-14 22:22:20+00:00     85\n",
       "9  2012-12-14 22:22:26+00:00     86"
      ]
     },
     "execution_count": 2,
     "metadata": {},
     "output_type": "execute_result"
    }
   ],
   "source": [
    "df = pd.read_csv('fridge1.csv')\n",
    "df.head(10)"
   ]
  },
  {
   "cell_type": "code",
   "execution_count": 3,
   "metadata": {},
   "outputs": [
    {
     "name": "stdout",
     "output_type": "stream",
     "text": [
      "<class 'pandas.core.frame.DataFrame'>\n",
      "RangeIndex: 1048574 entries, 0 to 1048573\n",
      "Data columns (total 2 columns):\n",
      "physical_quantity    1048574 non-null object\n",
      "power                1048574 non-null int64\n",
      "dtypes: int64(1), object(1)\n",
      "memory usage: 16.0+ MB\n"
     ]
    }
   ],
   "source": [
    "df.info()"
   ]
  },
  {
   "cell_type": "code",
   "execution_count": 4,
   "metadata": {},
   "outputs": [
    {
     "data": {
      "text/plain": [
       "physical_quantity    object\n",
       "power                 int64\n",
       "dtype: object"
      ]
     },
     "execution_count": 4,
     "metadata": {},
     "output_type": "execute_result"
    }
   ],
   "source": [
    "df.dtypes"
   ]
  },
  {
   "cell_type": "code",
   "execution_count": 5,
   "metadata": {},
   "outputs": [
    {
     "name": "stdout",
     "output_type": "stream",
     "text": [
      "<class 'pandas.core.frame.DataFrame'>\n",
      "RangeIndex: 1048574 entries, 0 to 1048573\n",
      "Data columns (total 2 columns):\n",
      "physical_quantity    1048574 non-null datetime64[ns, UTC]\n",
      "power                1048574 non-null int64\n",
      "dtypes: datetime64[ns, UTC](1), int64(1)\n",
      "memory usage: 16.0 MB\n"
     ]
    }
   ],
   "source": [
    "df['physical_quantity'] = pd.to_datetime(df['physical_quantity'])\n",
    "df.info()"
   ]
  },
  {
   "cell_type": "code",
   "execution_count": 6,
   "metadata": {},
   "outputs": [],
   "source": [
    "df.set_index('physical_quantity',inplace=True)"
   ]
  },
  {
   "cell_type": "code",
   "execution_count": 7,
   "metadata": {},
   "outputs": [
    {
     "data": {
      "text/html": [
       "<div>\n",
       "<style scoped>\n",
       "    .dataframe tbody tr th:only-of-type {\n",
       "        vertical-align: middle;\n",
       "    }\n",
       "\n",
       "    .dataframe tbody tr th {\n",
       "        vertical-align: top;\n",
       "    }\n",
       "\n",
       "    .dataframe thead th {\n",
       "        text-align: right;\n",
       "    }\n",
       "</style>\n",
       "<table border=\"1\" class=\"dataframe\">\n",
       "  <thead>\n",
       "    <tr style=\"text-align: right;\">\n",
       "      <th></th>\n",
       "      <th>power</th>\n",
       "    </tr>\n",
       "    <tr>\n",
       "      <th>physical_quantity</th>\n",
       "      <th></th>\n",
       "    </tr>\n",
       "  </thead>\n",
       "  <tbody>\n",
       "    <tr>\n",
       "      <th>2012-12-14 22:21:32</th>\n",
       "      <td>85</td>\n",
       "    </tr>\n",
       "    <tr>\n",
       "      <th>2012-12-14 22:21:38</th>\n",
       "      <td>85</td>\n",
       "    </tr>\n",
       "    <tr>\n",
       "      <th>2012-12-14 22:21:44</th>\n",
       "      <td>84</td>\n",
       "    </tr>\n",
       "    <tr>\n",
       "      <th>2012-12-14 22:21:50</th>\n",
       "      <td>85</td>\n",
       "    </tr>\n",
       "    <tr>\n",
       "      <th>2012-12-14 22:21:56</th>\n",
       "      <td>85</td>\n",
       "    </tr>\n",
       "    <tr>\n",
       "      <th>2012-12-14 22:22:02</th>\n",
       "      <td>85</td>\n",
       "    </tr>\n",
       "    <tr>\n",
       "      <th>2012-12-14 22:22:08</th>\n",
       "      <td>85</td>\n",
       "    </tr>\n",
       "    <tr>\n",
       "      <th>2012-12-14 22:22:14</th>\n",
       "      <td>85</td>\n",
       "    </tr>\n",
       "    <tr>\n",
       "      <th>2012-12-14 22:22:20</th>\n",
       "      <td>85</td>\n",
       "    </tr>\n",
       "    <tr>\n",
       "      <th>2012-12-14 22:22:26</th>\n",
       "      <td>86</td>\n",
       "    </tr>\n",
       "  </tbody>\n",
       "</table>\n",
       "</div>"
      ],
      "text/plain": [
       "                     power\n",
       "physical_quantity         \n",
       "2012-12-14 22:21:32     85\n",
       "2012-12-14 22:21:38     85\n",
       "2012-12-14 22:21:44     84\n",
       "2012-12-14 22:21:50     85\n",
       "2012-12-14 22:21:56     85\n",
       "2012-12-14 22:22:02     85\n",
       "2012-12-14 22:22:08     85\n",
       "2012-12-14 22:22:14     85\n",
       "2012-12-14 22:22:20     85\n",
       "2012-12-14 22:22:26     86"
      ]
     },
     "execution_count": 7,
     "metadata": {},
     "output_type": "execute_result"
    }
   ],
   "source": [
    "import datetime\n",
    "df.index= df.index.tz_localize(None)\n",
    "df.head(10)"
   ]
  },
  {
   "cell_type": "code",
   "execution_count": 8,
   "metadata": {},
   "outputs": [
    {
     "name": "stdout",
     "output_type": "stream",
     "text": [
      "<class 'pandas.core.frame.DataFrame'>\n",
      "DatetimeIndex: 1048574 entries, 2012-12-14 22:21:32 to 2013-03-25 00:06:20\n",
      "Data columns (total 1 columns):\n",
      "power    1048574 non-null int64\n",
      "dtypes: int64(1)\n",
      "memory usage: 16.0 MB\n"
     ]
    }
   ],
   "source": [
    "df.info()"
   ]
  },
  {
   "cell_type": "code",
   "execution_count": 9,
   "metadata": {},
   "outputs": [
    {
     "data": {
      "text/html": [
       "<div>\n",
       "<style scoped>\n",
       "    .dataframe tbody tr th:only-of-type {\n",
       "        vertical-align: middle;\n",
       "    }\n",
       "\n",
       "    .dataframe tbody tr th {\n",
       "        vertical-align: top;\n",
       "    }\n",
       "\n",
       "    .dataframe thead th {\n",
       "        text-align: right;\n",
       "    }\n",
       "</style>\n",
       "<table border=\"1\" class=\"dataframe\">\n",
       "  <thead>\n",
       "    <tr style=\"text-align: right;\">\n",
       "      <th></th>\n",
       "      <th>power</th>\n",
       "    </tr>\n",
       "  </thead>\n",
       "  <tbody>\n",
       "    <tr>\n",
       "      <th>count</th>\n",
       "      <td>1.048574e+06</td>\n",
       "    </tr>\n",
       "    <tr>\n",
       "      <th>mean</th>\n",
       "      <td>3.565282e+01</td>\n",
       "    </tr>\n",
       "    <tr>\n",
       "      <th>std</th>\n",
       "      <td>5.162273e+01</td>\n",
       "    </tr>\n",
       "    <tr>\n",
       "      <th>min</th>\n",
       "      <td>0.000000e+00</td>\n",
       "    </tr>\n",
       "    <tr>\n",
       "      <th>25%</th>\n",
       "      <td>0.000000e+00</td>\n",
       "    </tr>\n",
       "    <tr>\n",
       "      <th>50%</th>\n",
       "      <td>0.000000e+00</td>\n",
       "    </tr>\n",
       "    <tr>\n",
       "      <th>75%</th>\n",
       "      <td>8.500000e+01</td>\n",
       "    </tr>\n",
       "    <tr>\n",
       "      <th>max</th>\n",
       "      <td>2.984000e+03</td>\n",
       "    </tr>\n",
       "  </tbody>\n",
       "</table>\n",
       "</div>"
      ],
      "text/plain": [
       "              power\n",
       "count  1.048574e+06\n",
       "mean   3.565282e+01\n",
       "std    5.162273e+01\n",
       "min    0.000000e+00\n",
       "25%    0.000000e+00\n",
       "50%    0.000000e+00\n",
       "75%    8.500000e+01\n",
       "max    2.984000e+03"
      ]
     },
     "execution_count": 9,
     "metadata": {},
     "output_type": "execute_result"
    }
   ],
   "source": [
    "df.describe()"
   ]
  },
  {
   "cell_type": "code",
   "execution_count": 10,
   "metadata": {},
   "outputs": [
    {
     "name": "stdout",
     "output_type": "stream",
     "text": [
      "(1048574, 1)\n"
     ]
    }
   ],
   "source": [
    "print(df.shape)"
   ]
  },
  {
   "cell_type": "code",
   "execution_count": 11,
   "metadata": {},
   "outputs": [
    {
     "data": {
      "text/plain": [
       "False"
      ]
     },
     "execution_count": 11,
     "metadata": {},
     "output_type": "execute_result"
    }
   ],
   "source": [
    "df.isnull().values.any()"
   ]
  },
  {
   "cell_type": "code",
   "execution_count": 12,
   "metadata": {},
   "outputs": [],
   "source": [
    "#!pip install pyod\n"
   ]
  },
  {
   "cell_type": "code",
   "execution_count": 13,
   "metadata": {},
   "outputs": [],
   "source": [
    "from pyod.models import hbos"
   ]
  },
  {
   "cell_type": "code",
   "execution_count": 14,
   "metadata": {},
   "outputs": [
    {
     "data": {
      "text/plain": [
       "HBOS(alpha=0.1, contamination=0.01, n_bins=10, tol=0.5)"
      ]
     },
     "execution_count": 14,
     "metadata": {},
     "output_type": "execute_result"
    }
   ],
   "source": [
    "outliers_fraction = 0.01\n",
    "clf = hbos.HBOS(contamination = outliers_fraction)\n",
    "clf.fit(df[['power']])"
   ]
  },
  {
   "cell_type": "markdown",
   "metadata": {},
   "source": [
    "Histogram Based Outlier Score\n",
    "\n",
    "$HBOS(v) = \\sum\\limits_{i=0}^{d}\\frac{1}{hist_i(v)}$\n",
    "\n",
    "$hist_i(v)$ = Density Estimation\n",
    "\n",
    "Inverse of HBOS is the Decision Function Score"
   ]
  },
  {
   "cell_type": "code",
   "execution_count": 15,
   "metadata": {},
   "outputs": [],
   "source": [
    "df['Score'] = clf.decision_function(df[['power']])\n",
    "y_pred = clf.predict(df[['power']])\n",
    "n_inliers = len(y_pred)-np.count_nonzero(y_pred)\n",
    "n_outliers = np.count_nonzero(y_pred)\n",
    "df1 = df\n",
    "df1['outlier'] = y_pred.tolist()"
   ]
  },
  {
   "cell_type": "code",
   "execution_count": 16,
   "metadata": {},
   "outputs": [
    {
     "data": {
      "text/plain": [
       "array([3.27439165, 3.27439165, 3.27439165, ..., 3.27439165, 3.27439165,\n",
       "       3.27439165])"
      ]
     },
     "execution_count": 16,
     "metadata": {},
     "output_type": "execute_result"
    }
   ],
   "source": [
    "score = clf.decision_function(df[['power']])\n",
    "score"
   ]
  },
  {
   "cell_type": "code",
   "execution_count": 17,
   "metadata": {},
   "outputs": [
    {
     "data": {
      "text/plain": [
       "3.274"
      ]
     },
     "execution_count": 17,
     "metadata": {},
     "output_type": "execute_result"
    }
   ],
   "source": [
    "threshold = np.percentile(score, 100*outliers_fraction)\n",
    "round(threshold,3)"
   ]
  },
  {
   "cell_type": "markdown",
   "metadata": {},
   "source": [
    "score > Threshold -------> Anomaly  (1)\n",
    "\n",
    "score <= Threshold ------> Normal  (0)"
   ]
  },
  {
   "cell_type": "code",
   "execution_count": 18,
   "metadata": {},
   "outputs": [
    {
     "data": {
      "text/plain": [
       "1048574"
      ]
     },
     "execution_count": 18,
     "metadata": {},
     "output_type": "execute_result"
    }
   ],
   "source": [
    "len(y_pred)"
   ]
  },
  {
   "cell_type": "code",
   "execution_count": 19,
   "metadata": {},
   "outputs": [
    {
     "name": "stdout",
     "output_type": "stream",
     "text": [
      "1048153 421\n"
     ]
    }
   ],
   "source": [
    "print(n_inliers, n_outliers)"
   ]
  },
  {
   "cell_type": "code",
   "execution_count": 20,
   "metadata": {},
   "outputs": [
    {
     "name": "stdout",
     "output_type": "stream",
     "text": [
      "421\n"
     ]
    }
   ],
   "source": [
    "print(np.count_nonzero(y_pred))"
   ]
  },
  {
   "cell_type": "code",
   "execution_count": 21,
   "metadata": {},
   "outputs": [
    {
     "data": {
      "text/html": [
       "<div>\n",
       "<style scoped>\n",
       "    .dataframe tbody tr th:only-of-type {\n",
       "        vertical-align: middle;\n",
       "    }\n",
       "\n",
       "    .dataframe tbody tr th {\n",
       "        vertical-align: top;\n",
       "    }\n",
       "\n",
       "    .dataframe thead th {\n",
       "        text-align: right;\n",
       "    }\n",
       "</style>\n",
       "<table border=\"1\" class=\"dataframe\">\n",
       "  <thead>\n",
       "    <tr style=\"text-align: right;\">\n",
       "      <th></th>\n",
       "      <th>power</th>\n",
       "      <th>Score</th>\n",
       "      <th>outlier</th>\n",
       "    </tr>\n",
       "    <tr>\n",
       "      <th>physical_quantity</th>\n",
       "      <th></th>\n",
       "      <th></th>\n",
       "      <th></th>\n",
       "    </tr>\n",
       "  </thead>\n",
       "  <tbody>\n",
       "    <tr>\n",
       "      <th>2012-12-14 22:21:32</th>\n",
       "      <td>85</td>\n",
       "      <td>3.274392</td>\n",
       "      <td>0</td>\n",
       "    </tr>\n",
       "    <tr>\n",
       "      <th>2012-12-14 22:21:38</th>\n",
       "      <td>85</td>\n",
       "      <td>3.274392</td>\n",
       "      <td>0</td>\n",
       "    </tr>\n",
       "    <tr>\n",
       "      <th>2012-12-14 22:21:44</th>\n",
       "      <td>84</td>\n",
       "      <td>3.274392</td>\n",
       "      <td>0</td>\n",
       "    </tr>\n",
       "    <tr>\n",
       "      <th>2012-12-14 22:21:50</th>\n",
       "      <td>85</td>\n",
       "      <td>3.274392</td>\n",
       "      <td>0</td>\n",
       "    </tr>\n",
       "    <tr>\n",
       "      <th>2012-12-14 22:21:56</th>\n",
       "      <td>85</td>\n",
       "      <td>3.274392</td>\n",
       "      <td>0</td>\n",
       "    </tr>\n",
       "  </tbody>\n",
       "</table>\n",
       "</div>"
      ],
      "text/plain": [
       "                     power     Score  outlier\n",
       "physical_quantity                            \n",
       "2012-12-14 22:21:32     85  3.274392        0\n",
       "2012-12-14 22:21:38     85  3.274392        0\n",
       "2012-12-14 22:21:44     84  3.274392        0\n",
       "2012-12-14 22:21:50     85  3.274392        0\n",
       "2012-12-14 22:21:56     85  3.274392        0"
      ]
     },
     "execution_count": 21,
     "metadata": {},
     "output_type": "execute_result"
    }
   ],
   "source": [
    "df.head()"
   ]
  },
  {
   "cell_type": "code",
   "execution_count": 22,
   "metadata": {},
   "outputs": [
    {
     "data": {
      "text/plain": [
       "physical_quantity\n",
       "2012-12-14 22:21:32    0\n",
       "2012-12-14 22:21:38    0\n",
       "2012-12-14 22:21:44    0\n",
       "2012-12-14 22:21:50    0\n",
       "2012-12-14 22:21:56    0\n",
       "                      ..\n",
       "2013-03-25 00:05:52    0\n",
       "2013-03-25 00:05:59    0\n",
       "2013-03-25 00:06:06    0\n",
       "2013-03-25 00:06:13    0\n",
       "2013-03-25 00:06:20    0\n",
       "Name: outlier, Length: 1048574, dtype: int64"
      ]
     },
     "execution_count": 22,
     "metadata": {},
     "output_type": "execute_result"
    }
   ],
   "source": [
    "df1['outlier']"
   ]
  },
  {
   "cell_type": "code",
   "execution_count": 23,
   "metadata": {},
   "outputs": [
    {
     "data": {
      "text/html": [
       "<div>\n",
       "<style scoped>\n",
       "    .dataframe tbody tr th:only-of-type {\n",
       "        vertical-align: middle;\n",
       "    }\n",
       "\n",
       "    .dataframe tbody tr th {\n",
       "        vertical-align: top;\n",
       "    }\n",
       "\n",
       "    .dataframe thead th {\n",
       "        text-align: right;\n",
       "    }\n",
       "</style>\n",
       "<table border=\"1\" class=\"dataframe\">\n",
       "  <thead>\n",
       "    <tr style=\"text-align: right;\">\n",
       "      <th></th>\n",
       "      <th>power</th>\n",
       "      <th>Score</th>\n",
       "      <th>outlier</th>\n",
       "    </tr>\n",
       "    <tr>\n",
       "      <th>physical_quantity</th>\n",
       "      <th></th>\n",
       "      <th></th>\n",
       "      <th></th>\n",
       "    </tr>\n",
       "  </thead>\n",
       "  <tbody>\n",
       "    <tr>\n",
       "      <th>2012-12-14 22:21:32</th>\n",
       "      <td>85</td>\n",
       "      <td>3.274392</td>\n",
       "      <td>0</td>\n",
       "    </tr>\n",
       "    <tr>\n",
       "      <th>2012-12-14 22:21:38</th>\n",
       "      <td>85</td>\n",
       "      <td>3.274392</td>\n",
       "      <td>0</td>\n",
       "    </tr>\n",
       "    <tr>\n",
       "      <th>2012-12-14 22:21:44</th>\n",
       "      <td>84</td>\n",
       "      <td>3.274392</td>\n",
       "      <td>0</td>\n",
       "    </tr>\n",
       "    <tr>\n",
       "      <th>2012-12-14 22:21:50</th>\n",
       "      <td>85</td>\n",
       "      <td>3.274392</td>\n",
       "      <td>0</td>\n",
       "    </tr>\n",
       "    <tr>\n",
       "      <th>2012-12-14 22:21:56</th>\n",
       "      <td>85</td>\n",
       "      <td>3.274392</td>\n",
       "      <td>0</td>\n",
       "    </tr>\n",
       "  </tbody>\n",
       "</table>\n",
       "</div>"
      ],
      "text/plain": [
       "                     power     Score  outlier\n",
       "physical_quantity                            \n",
       "2012-12-14 22:21:32     85  3.274392        0\n",
       "2012-12-14 22:21:38     85  3.274392        0\n",
       "2012-12-14 22:21:44     84  3.274392        0\n",
       "2012-12-14 22:21:50     85  3.274392        0\n",
       "2012-12-14 22:21:56     85  3.274392        0"
      ]
     },
     "execution_count": 23,
     "metadata": {},
     "output_type": "execute_result"
    }
   ],
   "source": [
    "df1.head()"
   ]
  },
  {
   "cell_type": "code",
   "execution_count": 24,
   "metadata": {},
   "outputs": [
    {
     "data": {
      "text/html": [
       "<div>\n",
       "<style scoped>\n",
       "    .dataframe tbody tr th:only-of-type {\n",
       "        vertical-align: middle;\n",
       "    }\n",
       "\n",
       "    .dataframe tbody tr th {\n",
       "        vertical-align: top;\n",
       "    }\n",
       "\n",
       "    .dataframe thead th {\n",
       "        text-align: right;\n",
       "    }\n",
       "</style>\n",
       "<table border=\"1\" class=\"dataframe\">\n",
       "  <thead>\n",
       "    <tr style=\"text-align: right;\">\n",
       "      <th></th>\n",
       "      <th>power</th>\n",
       "      <th>Score</th>\n",
       "      <th>outlier</th>\n",
       "    </tr>\n",
       "    <tr>\n",
       "      <th>physical_quantity</th>\n",
       "      <th></th>\n",
       "      <th></th>\n",
       "      <th></th>\n",
       "    </tr>\n",
       "  </thead>\n",
       "  <tbody>\n",
       "    <tr>\n",
       "      <th>2013-03-25 00:05:17</th>\n",
       "      <td>0</td>\n",
       "      <td>3.274392</td>\n",
       "      <td>0</td>\n",
       "    </tr>\n",
       "    <tr>\n",
       "      <th>2013-03-25 00:05:24</th>\n",
       "      <td>0</td>\n",
       "      <td>3.274392</td>\n",
       "      <td>0</td>\n",
       "    </tr>\n",
       "    <tr>\n",
       "      <th>2013-03-25 00:05:31</th>\n",
       "      <td>0</td>\n",
       "      <td>3.274392</td>\n",
       "      <td>0</td>\n",
       "    </tr>\n",
       "    <tr>\n",
       "      <th>2013-03-25 00:05:38</th>\n",
       "      <td>0</td>\n",
       "      <td>3.274392</td>\n",
       "      <td>0</td>\n",
       "    </tr>\n",
       "    <tr>\n",
       "      <th>2013-03-25 00:05:45</th>\n",
       "      <td>0</td>\n",
       "      <td>3.274392</td>\n",
       "      <td>0</td>\n",
       "    </tr>\n",
       "    <tr>\n",
       "      <th>2013-03-25 00:05:52</th>\n",
       "      <td>0</td>\n",
       "      <td>3.274392</td>\n",
       "      <td>0</td>\n",
       "    </tr>\n",
       "    <tr>\n",
       "      <th>2013-03-25 00:05:59</th>\n",
       "      <td>0</td>\n",
       "      <td>3.274392</td>\n",
       "      <td>0</td>\n",
       "    </tr>\n",
       "    <tr>\n",
       "      <th>2013-03-25 00:06:06</th>\n",
       "      <td>0</td>\n",
       "      <td>3.274392</td>\n",
       "      <td>0</td>\n",
       "    </tr>\n",
       "    <tr>\n",
       "      <th>2013-03-25 00:06:13</th>\n",
       "      <td>0</td>\n",
       "      <td>3.274392</td>\n",
       "      <td>0</td>\n",
       "    </tr>\n",
       "    <tr>\n",
       "      <th>2013-03-25 00:06:20</th>\n",
       "      <td>0</td>\n",
       "      <td>3.274392</td>\n",
       "      <td>0</td>\n",
       "    </tr>\n",
       "  </tbody>\n",
       "</table>\n",
       "</div>"
      ],
      "text/plain": [
       "                     power     Score  outlier\n",
       "physical_quantity                            \n",
       "2013-03-25 00:05:17      0  3.274392        0\n",
       "2013-03-25 00:05:24      0  3.274392        0\n",
       "2013-03-25 00:05:31      0  3.274392        0\n",
       "2013-03-25 00:05:38      0  3.274392        0\n",
       "2013-03-25 00:05:45      0  3.274392        0\n",
       "2013-03-25 00:05:52      0  3.274392        0\n",
       "2013-03-25 00:05:59      0  3.274392        0\n",
       "2013-03-25 00:06:06      0  3.274392        0\n",
       "2013-03-25 00:06:13      0  3.274392        0\n",
       "2013-03-25 00:06:20      0  3.274392        0"
      ]
     },
     "execution_count": 24,
     "metadata": {},
     "output_type": "execute_result"
    }
   ],
   "source": [
    "df1.tail(10)"
   ]
  },
  {
   "cell_type": "code",
   "execution_count": 25,
   "metadata": {},
   "outputs": [
    {
     "name": "stdout",
     "output_type": "stream",
     "text": [
      "Anomalies :  421\n",
      "Inliers :  1048153\n"
     ]
    }
   ],
   "source": [
    "inliers = np.array(df1['power'][df1['outlier']==0]).reshape(-1,1)\n",
    "outliers = df1['power'][df1['outlier']==1].values.reshape(-1,1)\n",
    "print(\"Anomalies : \",n_outliers)\n",
    "print(\"Inliers : \",n_inliers)"
   ]
  },
  {
   "cell_type": "code",
   "execution_count": 26,
   "metadata": {},
   "outputs": [
    {
     "data": {
      "text/plain": [
       "1048574"
      ]
     },
     "execution_count": 26,
     "metadata": {},
     "output_type": "execute_result"
    }
   ],
   "source": [
    "len(df1)"
   ]
  },
  {
   "cell_type": "code",
   "execution_count": 27,
   "metadata": {},
   "outputs": [
    {
     "name": "stdout",
     "output_type": "stream",
     "text": [
      "Anomalies Percentage :  0.04014976530030308 %\n"
     ]
    }
   ],
   "source": [
    "print(\"Anomalies Percentage : \", (n_outliers/len(df1))*100, \"%\")"
   ]
  },
  {
   "cell_type": "code",
   "execution_count": 28,
   "metadata": {},
   "outputs": [
    {
     "name": "stdout",
     "output_type": "stream",
     "text": [
      "Inliers Percentage :  99.9598502346997 %\n"
     ]
    }
   ],
   "source": [
    "print(\"Inliers Percentage : \", (n_inliers/len(df1))*100, \"%\")"
   ]
  },
  {
   "cell_type": "code",
   "execution_count": 29,
   "metadata": {},
   "outputs": [
    {
     "data": {
      "text/plain": [
       "array([[85],\n",
       "       [85],\n",
       "       [84],\n",
       "       ...,\n",
       "       [ 0],\n",
       "       [ 0],\n",
       "       [ 0]], dtype=int64)"
      ]
     },
     "execution_count": 29,
     "metadata": {},
     "output_type": "execute_result"
    }
   ],
   "source": [
    "inliers"
   ]
  },
  {
   "cell_type": "code",
   "execution_count": 30,
   "metadata": {},
   "outputs": [
    {
     "data": {
      "text/plain": [
       "array([[ 323],\n",
       "       [ 468],\n",
       "       [ 467],\n",
       "       [ 458],\n",
       "       [ 437],\n",
       "       [1461],\n",
       "       [ 457],\n",
       "       [1654],\n",
       "       [1730],\n",
       "       [ 480],\n",
       "       [1678],\n",
       "       [ 399],\n",
       "       [ 426],\n",
       "       [1749],\n",
       "       [ 907],\n",
       "       [ 470],\n",
       "       [2420],\n",
       "       [ 473],\n",
       "       [1663],\n",
       "       [ 504],\n",
       "       [1778],\n",
       "       [1747],\n",
       "       [1523],\n",
       "       [ 365],\n",
       "       [ 330],\n",
       "       [1171],\n",
       "       [ 451],\n",
       "       [ 405],\n",
       "       [1774],\n",
       "       [ 343],\n",
       "       [ 483],\n",
       "       [ 532],\n",
       "       [ 430],\n",
       "       [ 729],\n",
       "       [ 524],\n",
       "       [1771],\n",
       "       [1778],\n",
       "       [1646],\n",
       "       [ 807],\n",
       "       [1781],\n",
       "       [ 378],\n",
       "       [ 840],\n",
       "       [1838],\n",
       "       [ 788],\n",
       "       [ 694],\n",
       "       [ 493],\n",
       "       [1828],\n",
       "       [1769],\n",
       "       [ 438],\n",
       "       [ 327],\n",
       "       [ 425],\n",
       "       [ 377],\n",
       "       [1469],\n",
       "       [ 328],\n",
       "       [1701],\n",
       "       [ 464],\n",
       "       [ 390],\n",
       "       [ 515],\n",
       "       [ 468],\n",
       "       [ 521],\n",
       "       [ 396],\n",
       "       [ 413],\n",
       "       [1636],\n",
       "       [ 415],\n",
       "       [ 299],\n",
       "       [ 344],\n",
       "       [ 360],\n",
       "       [1406],\n",
       "       [ 925],\n",
       "       [ 466],\n",
       "       [ 477],\n",
       "       [ 444],\n",
       "       [ 327],\n",
       "       [ 444],\n",
       "       [ 436],\n",
       "       [ 439],\n",
       "       [1798],\n",
       "       [1148],\n",
       "       [1627],\n",
       "       [1738],\n",
       "       [1355],\n",
       "       [ 740],\n",
       "       [1716],\n",
       "       [ 359],\n",
       "       [ 541],\n",
       "       [ 462],\n",
       "       [ 390],\n",
       "       [ 331],\n",
       "       [ 402],\n",
       "       [ 443],\n",
       "       [ 484],\n",
       "       [2178],\n",
       "       [ 345],\n",
       "       [1646],\n",
       "       [ 499],\n",
       "       [ 365],\n",
       "       [ 318],\n",
       "       [ 783],\n",
       "       [ 389],\n",
       "       [ 395],\n",
       "       [ 485],\n",
       "       [ 425],\n",
       "       [ 303],\n",
       "       [1744],\n",
       "       [1375],\n",
       "       [1795],\n",
       "       [ 443],\n",
       "       [ 499],\n",
       "       [ 510],\n",
       "       [ 502],\n",
       "       [ 498],\n",
       "       [ 423],\n",
       "       [ 899],\n",
       "       [1676],\n",
       "       [ 381],\n",
       "       [ 413],\n",
       "       [ 398],\n",
       "       [1414],\n",
       "       [ 474],\n",
       "       [ 346],\n",
       "       [ 331],\n",
       "       [ 751],\n",
       "       [ 552],\n",
       "       [1701],\n",
       "       [1443],\n",
       "       [ 481],\n",
       "       [ 467],\n",
       "       [ 478],\n",
       "       [ 472],\n",
       "       [ 502],\n",
       "       [1644],\n",
       "       [ 943],\n",
       "       [1320],\n",
       "       [1745],\n",
       "       [1754],\n",
       "       [1751],\n",
       "       [ 363],\n",
       "       [ 397],\n",
       "       [1719],\n",
       "       [ 346],\n",
       "       [ 483],\n",
       "       [ 462],\n",
       "       [ 450],\n",
       "       [ 567],\n",
       "       [ 492],\n",
       "       [ 341],\n",
       "       [1610],\n",
       "       [ 389],\n",
       "       [1766],\n",
       "       [ 493],\n",
       "       [ 425],\n",
       "       [1686],\n",
       "       [ 415],\n",
       "       [ 442],\n",
       "       [1288],\n",
       "       [1792],\n",
       "       [ 371],\n",
       "       [ 876],\n",
       "       [ 471],\n",
       "       [ 458],\n",
       "       [ 822],\n",
       "       [ 496],\n",
       "       [1094],\n",
       "       [ 499],\n",
       "       [ 428],\n",
       "       [ 372],\n",
       "       [ 425],\n",
       "       [ 387],\n",
       "       [1222],\n",
       "       [ 476],\n",
       "       [ 390],\n",
       "       [ 341],\n",
       "       [ 415],\n",
       "       [ 339],\n",
       "       [ 329],\n",
       "       [1682],\n",
       "       [1568],\n",
       "       [ 494],\n",
       "       [ 781],\n",
       "       [ 393],\n",
       "       [ 502],\n",
       "       [ 442],\n",
       "       [1613],\n",
       "       [1081],\n",
       "       [ 725],\n",
       "       [ 464],\n",
       "       [1315],\n",
       "       [ 463],\n",
       "       [1765],\n",
       "       [ 511],\n",
       "       [ 494],\n",
       "       [1710],\n",
       "       [ 340],\n",
       "       [1778],\n",
       "       [ 458],\n",
       "       [ 505],\n",
       "       [ 737],\n",
       "       [ 422],\n",
       "       [ 360],\n",
       "       [1117],\n",
       "       [ 363],\n",
       "       [ 321],\n",
       "       [ 828],\n",
       "       [1398],\n",
       "       [ 499],\n",
       "       [ 424],\n",
       "       [ 433],\n",
       "       [ 475],\n",
       "       [1816],\n",
       "       [ 347],\n",
       "       [ 371],\n",
       "       [1264],\n",
       "       [ 896],\n",
       "       [ 483],\n",
       "       [ 346],\n",
       "       [ 496],\n",
       "       [ 489],\n",
       "       [1335],\n",
       "       [ 406],\n",
       "       [ 326],\n",
       "       [ 478],\n",
       "       [ 879],\n",
       "       [ 529],\n",
       "       [ 692],\n",
       "       [ 530],\n",
       "       [ 450],\n",
       "       [ 320],\n",
       "       [ 466],\n",
       "       [ 565],\n",
       "       [ 433],\n",
       "       [ 851],\n",
       "       [ 505],\n",
       "       [ 474],\n",
       "       [1732],\n",
       "       [ 478],\n",
       "       [1769],\n",
       "       [ 376],\n",
       "       [ 345],\n",
       "       [1781],\n",
       "       [1738],\n",
       "       [ 434],\n",
       "       [ 751],\n",
       "       [ 315],\n",
       "       [ 401],\n",
       "       [ 465],\n",
       "       [ 474],\n",
       "       [ 886],\n",
       "       [ 504],\n",
       "       [1807],\n",
       "       [ 456],\n",
       "       [ 495],\n",
       "       [1163],\n",
       "       [1840],\n",
       "       [1115],\n",
       "       [1119],\n",
       "       [1705],\n",
       "       [1770],\n",
       "       [ 446],\n",
       "       [ 458],\n",
       "       [ 341],\n",
       "       [1622],\n",
       "       [1635],\n",
       "       [ 397],\n",
       "       [1731],\n",
       "       [ 519],\n",
       "       [1411],\n",
       "       [1747],\n",
       "       [1705],\n",
       "       [ 488],\n",
       "       [ 438],\n",
       "       [ 361],\n",
       "       [ 494],\n",
       "       [ 434],\n",
       "       [ 664],\n",
       "       [ 484],\n",
       "       [ 448],\n",
       "       [ 396],\n",
       "       [1623],\n",
       "       [ 369],\n",
       "       [1604],\n",
       "       [ 502],\n",
       "       [ 521],\n",
       "       [1682],\n",
       "       [1635],\n",
       "       [1759],\n",
       "       [ 462],\n",
       "       [1802],\n",
       "       [1827],\n",
       "       [ 320],\n",
       "       [ 322],\n",
       "       [ 482],\n",
       "       [1001],\n",
       "       [ 358],\n",
       "       [ 401],\n",
       "       [ 486],\n",
       "       [ 456],\n",
       "       [ 845],\n",
       "       [1617],\n",
       "       [1022],\n",
       "       [ 451],\n",
       "       [1741],\n",
       "       [ 494],\n",
       "       [ 429],\n",
       "       [2984],\n",
       "       [ 366],\n",
       "       [ 511],\n",
       "       [ 362],\n",
       "       [ 342],\n",
       "       [1693],\n",
       "       [1589],\n",
       "       [ 345],\n",
       "       [ 517],\n",
       "       [ 436],\n",
       "       [ 324],\n",
       "       [ 425],\n",
       "       [ 512],\n",
       "       [ 410],\n",
       "       [1819],\n",
       "       [1006],\n",
       "       [ 423],\n",
       "       [ 485],\n",
       "       [ 446],\n",
       "       [ 492],\n",
       "       [ 379],\n",
       "       [1618],\n",
       "       [ 375],\n",
       "       [ 661],\n",
       "       [1272],\n",
       "       [ 373],\n",
       "       [ 500],\n",
       "       [ 427],\n",
       "       [ 499],\n",
       "       [ 512],\n",
       "       [ 509],\n",
       "       [ 433],\n",
       "       [ 568],\n",
       "       [ 498],\n",
       "       [ 338],\n",
       "       [ 775],\n",
       "       [1735],\n",
       "       [1009],\n",
       "       [1688],\n",
       "       [ 511],\n",
       "       [ 440],\n",
       "       [ 482],\n",
       "       [1824],\n",
       "       [1815],\n",
       "       [ 330],\n",
       "       [1403],\n",
       "       [ 495],\n",
       "       [ 349],\n",
       "       [ 452],\n",
       "       [ 337],\n",
       "       [ 375],\n",
       "       [ 496],\n",
       "       [ 484],\n",
       "       [1802],\n",
       "       [1531],\n",
       "       [ 439],\n",
       "       [1728],\n",
       "       [ 451],\n",
       "       [ 444],\n",
       "       [ 453],\n",
       "       [ 429],\n",
       "       [ 339],\n",
       "       [ 544],\n",
       "       [1452],\n",
       "       [1819],\n",
       "       [ 972],\n",
       "       [ 338],\n",
       "       [ 366],\n",
       "       [1769],\n",
       "       [ 418],\n",
       "       [ 461],\n",
       "       [1611],\n",
       "       [ 345],\n",
       "       [ 425],\n",
       "       [ 512],\n",
       "       [ 425],\n",
       "       [ 460],\n",
       "       [ 376],\n",
       "       [ 482],\n",
       "       [ 465],\n",
       "       [ 510],\n",
       "       [ 486],\n",
       "       [ 389],\n",
       "       [1721],\n",
       "       [ 424],\n",
       "       [ 423],\n",
       "       [ 311],\n",
       "       [ 428],\n",
       "       [ 416],\n",
       "       [ 589],\n",
       "       [ 760],\n",
       "       [ 537],\n",
       "       [ 452],\n",
       "       [ 453],\n",
       "       [1692],\n",
       "       [ 436],\n",
       "       [ 340],\n",
       "       [ 325],\n",
       "       [ 674],\n",
       "       [1747],\n",
       "       [ 795],\n",
       "       [ 406],\n",
       "       [1744],\n",
       "       [ 351],\n",
       "       [1650],\n",
       "       [ 493],\n",
       "       [1792],\n",
       "       [ 441],\n",
       "       [ 463],\n",
       "       [1474],\n",
       "       [1836],\n",
       "       [ 752],\n",
       "       [1758],\n",
       "       [1714],\n",
       "       [ 444],\n",
       "       [ 373],\n",
       "       [1374],\n",
       "       [ 459]], dtype=int64)"
      ]
     },
     "execution_count": 30,
     "metadata": {},
     "output_type": "execute_result"
    }
   ],
   "source": [
    "outliers"
   ]
  },
  {
   "cell_type": "code",
   "execution_count": 31,
   "metadata": {},
   "outputs": [
    {
     "data": {
      "text/plain": [
       "1048153"
      ]
     },
     "execution_count": 31,
     "metadata": {},
     "output_type": "execute_result"
    }
   ],
   "source": [
    "len(inliers)"
   ]
  },
  {
   "cell_type": "code",
   "execution_count": 32,
   "metadata": {},
   "outputs": [
    {
     "data": {
      "text/plain": [
       "421"
      ]
     },
     "execution_count": 32,
     "metadata": {},
     "output_type": "execute_result"
    }
   ],
   "source": [
    "len(outliers)"
   ]
  },
  {
   "cell_type": "code",
   "execution_count": 33,
   "metadata": {},
   "outputs": [
    {
     "name": "stdout",
     "output_type": "stream",
     "text": [
      "Predicted Values:\n"
     ]
    },
    {
     "data": {
      "text/html": [
       "<div>\n",
       "<style scoped>\n",
       "    .dataframe tbody tr th:only-of-type {\n",
       "        vertical-align: middle;\n",
       "    }\n",
       "\n",
       "    .dataframe tbody tr th {\n",
       "        vertical-align: top;\n",
       "    }\n",
       "\n",
       "    .dataframe thead th {\n",
       "        text-align: right;\n",
       "    }\n",
       "</style>\n",
       "<table border=\"1\" class=\"dataframe\">\n",
       "  <thead>\n",
       "    <tr style=\"text-align: right;\">\n",
       "      <th></th>\n",
       "      <th>Power</th>\n",
       "      <th>Score</th>\n",
       "      <th>Target</th>\n",
       "    </tr>\n",
       "  </thead>\n",
       "  <tbody>\n",
       "    <tr>\n",
       "      <th>0</th>\n",
       "      <td>1200</td>\n",
       "      <td>3.321927</td>\n",
       "      <td>1</td>\n",
       "    </tr>\n",
       "    <tr>\n",
       "      <th>1</th>\n",
       "      <td>85</td>\n",
       "      <td>3.274392</td>\n",
       "      <td>0</td>\n",
       "    </tr>\n",
       "    <tr>\n",
       "      <th>2</th>\n",
       "      <td>0</td>\n",
       "      <td>3.274392</td>\n",
       "      <td>0</td>\n",
       "    </tr>\n",
       "    <tr>\n",
       "      <th>3</th>\n",
       "      <td>95</td>\n",
       "      <td>3.274392</td>\n",
       "      <td>0</td>\n",
       "    </tr>\n",
       "    <tr>\n",
       "      <th>4</th>\n",
       "      <td>323</td>\n",
       "      <td>3.321916</td>\n",
       "      <td>1</td>\n",
       "    </tr>\n",
       "  </tbody>\n",
       "</table>\n",
       "</div>"
      ],
      "text/plain": [
       "   Power     Score  Target\n",
       "0   1200  3.321927       1\n",
       "1     85  3.274392       0\n",
       "2      0  3.274392       0\n",
       "3     95  3.274392       0\n",
       "4    323  3.321916       1"
      ]
     },
     "execution_count": 33,
     "metadata": {},
     "output_type": "execute_result"
    }
   ],
   "source": [
    "a = [1200,85,0,95,323]\n",
    "a_df = pd.DataFrame(a)\n",
    "y1 = clf.predict(a_df)\n",
    "y2 = pd.DataFrame(y1)\n",
    "y3 = clf.decision_function(a_df)\n",
    "y3 = pd.DataFrame(y3)\n",
    "y2 = pd.concat([a_df,y3,y2],axis = 1)\n",
    "y2.columns = ['Power','Score','Target']\n",
    "print(\"Predicted Values:\")\n",
    "y2"
   ]
  },
  {
   "cell_type": "code",
   "execution_count": 34,
   "metadata": {},
   "outputs": [
    {
     "name": "stdout",
     "output_type": "stream",
     "text": [
      "Results of Histogram Based Outlier Detection Model:\n",
      "Anomalies :  421\n",
      "Total instances :  1048574\n",
      "Anomalies Percentage :  0.04 %\n",
      "\n",
      "\n",
      "Inliars :  1048153\n",
      "Total instances :  1048574\n",
      "Inliers Percentage :  99.96 %\n"
     ]
    }
   ],
   "source": [
    "print(\"Results of Histogram Based Outlier Detection Model:\")\n",
    "\n",
    "print(\"Anomalies : \",n_outliers)\n",
    "print(\"Total instances : \",len(df1))\n",
    "print(\"Anomalies Percentage : \", round((n_outliers/len(df1))*100,2), \"%\")\n",
    "print(\"\\n\")\n",
    "print(\"Inliars : \",n_inliers)\n",
    "print(\"Total instances : \",len(df1))\n",
    "print(\"Inliers Percentage : \", round((n_inliers/len(df1))*100,2), \"%\")"
   ]
  },
  {
   "cell_type": "code",
   "execution_count": null,
   "metadata": {},
   "outputs": [],
   "source": []
  }
 ],
 "metadata": {
  "kernelspec": {
   "display_name": "Python 3",
   "language": "python",
   "name": "python3"
  },
  "language_info": {
   "codemirror_mode": {
    "name": "ipython",
    "version": 3
   },
   "file_extension": ".py",
   "mimetype": "text/x-python",
   "name": "python",
   "nbconvert_exporter": "python",
   "pygments_lexer": "ipython3",
   "version": "3.6.11"
  }
 },
 "nbformat": 4,
 "nbformat_minor": 4
}
